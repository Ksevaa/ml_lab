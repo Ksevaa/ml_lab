{
  "nbformat": 4,
  "nbformat_minor": 0,
  "metadata": {
    "colab": {
      "provenance": []
    },
    "kernelspec": {
      "name": "python3",
      "display_name": "Python 3"
    },
    "language_info": {
      "name": "python"
    }
  },
  "cells": [
    {
      "cell_type": "markdown",
      "metadata": {
        "id": "m2s4kN_QPQVe"
      },
      "source": [
        "# Введение в обучение с подкреплением  (Reinforcement Learning)\n",
        "\n",
        "\n",
        "<center>\n",
        "<img src=\"https://raw.githubusercontent.com/jcformanek/jcformanek.github.io/master/docs/assets/images/rl_in_space.png\" width=\"100%\" />\n",
        "</center>\n",
        "\n",
        "\n",
        "\n",
        "**Введение**\n",
        "\n",
        "На этом семинаре мы изучим обучение с подкреплением - тип машинного обучения без учителя, где агент учится выбирать действия, которые приводят к максимальному вознаграждению в долгосрочной перспективе. Обучение с подкреплением используется в широком спектре сложных задач, в том числе - в видеоиграх, например, [Atari](https://www.deepmind.com/blog/agent57-outperforming-the-human-atari-benchmark), [StarCraft II](https://www.deepmind.com/blog/alphastar-mastering-the-real-time-strategy-game-starcraft-ii) и [Dota II](https://openai.com/five/).\n",
        "\n",
        "На семинаре изучим классическую среду - [CartPole](https://www.gymlibrary.ml/environments/classic_control/cart_pole/), где агент должен научиться балансировать шестом на тележке (см лекцию), используя несколько различных подходов RL. По пути вы познакомитесь с некоторыми из самых важных концепций и терминологии в RL.\n",
        "\n",
        "**Темы:**\n",
        "* Reinforcement Learning (RL, Обучение с подкреплением)\n",
        "* Random Policy Search (Случайный поиск политики)\n",
        "* Policy Gradient (Градиент политики)\n",
        "* Q-Learning\n",
        "\n",
        "\n",
        "**Что надо сделать для лучшего понимания:**\n",
        "\n",
        "* почитать про библиотеку [JAX](https://github.com/google/jax).\n",
        "* вспомнить нейроки.\n",
        "\n"
      ]
    },
    {
      "cell_type": "markdown",
      "metadata": {
        "id": "6EqhIg1odqg0"
      },
      "source": [
        "### Настраиваем среду"
      ]
    },
    {
      "cell_type": "code",
      "execution_count": null,
      "metadata": {
        "id": "4boGA9rYdt9l"
      },
      "outputs": [],
      "source": [
        "# @title Установка необходимых пакетов (надо просто запустить!) { display-mode: \"form\" }\n",
        "# @markdown Может занять несколько минут\n",
        "%%capture\n",
        "!pip install jaxlib\n",
        "!pip install jax\n",
        "!pip install git+https://github.com/deepmind/dm-haiku\n",
        "!pip install gym==0.25\n",
        "!pip install gym[box2d]\n",
        "!pip install optax\n",
        "!pip install matplotlib\n",
        "!pip install chex\n",
        "!pip install gym[classic_control]"
      ]
    },
    {
      "cell_type": "code",
      "execution_count": null,
      "metadata": {
        "id": "gwbqggmcRjMy"
      },
      "outputs": [],
      "source": [
        "# @title Импорт необходимых пакетов (просто запустите ячейку) { display-mode: \"form\" }\n",
        "%%capture\n",
        "import copy\n",
        "from shutil import rmtree # deleting directories\n",
        "import random\n",
        "import collections # useful data structures\n",
        "import numpy as np\n",
        "import gym # reinforcement learning environments\n",
        "from gym.wrappers import RecordVideo\n",
        "import jax\n",
        "import jax.numpy as jnp # jax numpy\n",
        "import haiku as hk # jax neural network library\n",
        "import optax # jax optimizer library\n",
        "import matplotlib.pyplot as plt # graph plotting library\n",
        "from IPython.display import HTML\n",
        "from base64 import b64encode\n",
        "import chex\n",
        "\n",
        "# Hide warnings\n",
        "import warnings\n",
        "warnings.filterwarnings('ignore')"
      ]
    },
    {
      "cell_type": "markdown",
      "metadata": {
        "id": "-ZUp8i37dFbU"
      },
      "source": [
        "## 1. Ключевые концепции обучения с подкреплением\n",
        "\n",
        "Обучение с подкреплением (RL) является подразделом машинного обучения (ML). В отличие от таких областей, как контролируемое обучение, где мы даем примеры ожидаемого поведения нашим моделям, RL фокусируется на *целеориентированном* обучении из взаимодействий методом проб и ошибок. Алгоритмы RL изучают, что делать (т. е. какие оптимальные действия предпринять) в среде, чтобы максимизировать некий сигнал вознаграждения. В таких условиях, как видеоигра, сигналом вознаграждения может быть счет игры, т. е. алгоритмы RL будут пытаться максимизировать счет в игре, выбирая лучшие действия.\n",
        "\n",
        "<center>\n",
        "<img src=\"https://pettingzoo.farama.org/_images/environments-demo.gif\" width=\"40%\" />\n",
        "</center>\n",
        "\n",
        "[*Image Source*](https://pettingzoo.farama.org/)\n",
        "\n",
        "Другими словами, в RL у нас есть **агент**, который воспринимает **наблюдение** $o_t$ текущего состояния $s_t$ **окружающей среды** и должен выбрать **действие** $a_t$ для выполнения.\n",
        "\n",
        "Затем окружающая среда переходит в новое состояние $s_{t+1}$ в ответ на действие агента, а также дает агенту скалярное вознаграждение $r_t$, чтобы указать, насколько хорошим или плохим было выбранное действие, учитывая состояние окружающей среды.\n",
        "\n",
        "Целью в RL является максимизация агентом суммы вознаграждения, которое он получает от окружающей среды с течением времени. Нижний индекс $t$ используется для указания номера временного шага, т. е. $s_0$ - это состояние окружающей среды на начальном временном шаге, а $a_{99}$ - это действие агента на $99-м$ временном шаге."
      ]
    },
    {
      "cell_type": "markdown",
      "metadata": {
        "id": "Ghgy69hFRjMz"
      },
      "source": [
        "### Среда - OpenAI Gym\n",
        "Как упоминалось выше, среда получает от агента действие $a_t$ и возвращает вознаграждение $r_t$ и наблюдение $o_t$.\n",
        "\n",
        "OpenAI разработал пакет для Python под названием **Gym**, который включает реализации популярных сред и простой интерфейс для взаимодействия агента RL. Чтобы использовать поддерживаемую [среду gym](https://www.gymlibrary.ml/), все, что вам нужно сделать, это передать имя среды в функцию  `gym.make(<environment_name>)`.\n",
        "\n",
        "В этом уроке мы будем использовать простую среду под названием **CartPole**. В CartPole задача агента — научиться балансировать на шесте как можно дольше, перемещая тележку *влево* или *вправо*.\n",
        "\n",
        "<img src=\"https://user-images.githubusercontent.com/10854026/32486103-f15f19de-c3a5-11e7-81de-0605df939497.gif\" width=\"50%\" />"
      ]
    },
    {
      "cell_type": "code",
      "execution_count": null,
      "metadata": {
        "id": "WfxzajMYRjMz"
      },
      "outputs": [],
      "source": [
        "# Create the environment\n",
        "env_name = \"CartPole-v0\"\n",
        "env = gym.make(env_name)"
      ]
    },
    {
      "cell_type": "markdown",
      "metadata": {
        "id": "y_BbftaJj3zu"
      },
      "source": [
        "### Состояние (States) и Наблюдение (Observations) - $s_t$ and $o_t$\n",
        "\n",
        "В RL агент воспринимает наблюдение за состоянием среды. В некоторых настройках наблюдение может включать всю информацию, лежащую в основе состояния среды. Такая среда называется **полностью наблюдаемой**. В других настройках агент может получать только частичную информацию о состоянии среды в своем наблюдении. Такая среда называется **частично наблюдаемой**.\n",
        "\n",
        "В оставшейся части этого руководства мы будем предполагать, что среда полностью наблюдаема, и поэтому будем использовать состояние $s_t$ и наблюдение $o_t$ взаимозаменяемо. В Gym мы получаем начальное наблюдение из среды, вызывая функцию `env.reset()`."
      ]
    },
    {
      "cell_type": "code",
      "execution_count": null,
      "metadata": {
        "id": "HdS8nqOgRjM0",
        "colab": {
          "base_uri": "https://localhost:8080/"
        },
        "outputId": "6a117f8a-e975-4543-cf6a-ff06e39cf15a"
      },
      "outputs": [
        {
          "output_type": "stream",
          "name": "stdout",
          "text": [
            "Initial State:: [-0.00886669  0.03561056  0.0179401   0.0404094 ]\n",
            "Environment Obs Space Shape: (4,)\n"
          ]
        }
      ],
      "source": [
        "# Reset the environment\n",
        "s_0 = env.reset()\n",
        "print(\"Initial State::\", s_0)\n",
        "\n",
        "# Get environment obs space\n",
        "obs_shape = env.observation_space.shape\n",
        "print(\"Environment Obs Space Shape:\", obs_shape)"
      ]
    },
    {
      "cell_type": "markdown",
      "metadata": {
        "id": "pUNX6mbotABo"
      },
      "source": [
        "В CartPole состояние окружающей среды представлено четырьмя числами: *угловое положение полюса, угловая скорость полюса, положение тележки, скорость тележки*."
      ]
    },
    {
      "cell_type": "markdown",
      "metadata": {
        "id": "hL1Nkgy7nUfn"
      },
      "source": [
        "### Действия (Actions) - $a_t$\n",
        "\n",
        "В RL действия обычно либо **дискретные**, либо **непрерывные**. Непрерывные действия задаются вектором действительных чисел. Дискретные действия задаются целочисленным значением. В средах, где мы можем подсчитать конечный набор действий, мы обычно используем дискретные действия.\n",
        "\n",
        "В CartPole есть только два действия: *влево* и *вправо*. Таким образом, действия могут быть представлены целыми числами $0$ и $1$. В gym мы можем легко получить список возможных действий следующим образом:"
      ]
    },
    {
      "cell_type": "code",
      "execution_count": null,
      "metadata": {
        "id": "uOLZqU_LpIXh",
        "colab": {
          "base_uri": "https://localhost:8080/"
        },
        "outputId": "408193d3-9da7-46a1-c6b1-53581ede7c3a"
      },
      "outputs": [
        {
          "output_type": "stream",
          "name": "stdout",
          "text": [
            "Environment action space: Discrete(2)\n",
            "Number of actions: 2\n"
          ]
        }
      ],
      "source": [
        "# Get action space - e.g. discrete or continuous\n",
        "print(f\"Environment action space: {env.action_space}\")\n",
        "\n",
        "# Get num actions\n",
        "num_actions = env.action_space.n\n",
        "print(f\"Number of actions: {num_actions}\")"
      ]
    },
    {
      "cell_type": "markdown",
      "metadata": {
        "id": "tRsflxbDpoPm"
      },
      "source": [
        "### Политика агента (The Agent's Policy) - $\\pi$\n",
        "\n",
        "В RL агент выбирает действия на основе полученных наблюдений. Мы можем представить процесс выбора действия агента как функцию, которая принимает наблюдение в качестве входных данных и возвращает действие в качестве выходных данных. В RL мы обычно называем эту функцию **политикой** агента и обозначаем ее $\\pi(s_t)=a_t$. В RL мы обычно параметризуем нашу политику каким-либо образом, а затем пытаемся узнать оптимальные параметры. Параметризованная политика обычно обозначается $\\pi_\\theta$, где $\\theta$ — это набор параметров.\n",
        "\n",
        "**Упражнение 1:** В качестве упражнения давайте реализуем простую политику, которая принимает набор параметров и наблюдение в качестве входных данных и возвращает действие. Предположим, что наблюдение — это вектор из четырех чисел, как наблюдение CartPole, и что действие должно быть либо $0$, либо $1$. Предположим также, что параметры — это вектор из четырех действительных чисел. Тогда действие должно быть вычислено следующим образом.\n",
        "\n",
        "\n",
        "1. Вычислите [скалярное произведение векторов](https://www.mathsisfun.com/algebra/vectors-dot-product.html) между наблюдением и параметрами.\n",
        "2. Если результат больше нуля, верните действие $1$.\n",
        "3. В противном случае верните действие $0$.\n",
        "\n",
        "В этом упражнении мы постараемся использовать JAX как можно чаще. Поэтому постарайтесь использовать методы JAX для этой задачи. Ниже приведены некоторые полезные методы, которые вы можете использовать. Вам нужно будет завершить код в блоке ниже, заменив `...` правильным кодом.\n",
        "\n",
        "\n",
        "**Полезные методы:**\n",
        "* Вычислите скалярное произведение векторов с помощью `jax.numpy.dot` ([docs](https://jax.readthedocs.io/en/latest/_autosummary/jax.numpy.dot.html)).\n",
        "\n",
        "* Когда вы пытаетесь условно присвоить значение $0$ или $1$ действию на основе результата скалярного произведения, вам следует использовать `jax.lax.select` ([docs](https://jax.readthedocs.io/en/latest/_autosummary/jax.lax.select.html#jax.lax.select)).\n",
        "\n",
        "Метод `jax.lax.select` принимает три аргумента в качестве входных данных. Первый аргумент — это оператор, который будет оцениваться как `True` или `False`.\n",
        "\n",
        "Если оператор равен `True`, то `jax.lax.select` вернет свой второй аргумент.\n",
        "\n",
        "Если оператор имеет значение `False`, `jax.lax.select` вернет свой третий аргумент.\n",
        "\n"
      ]
    },
    {
      "cell_type": "code",
      "execution_count": null,
      "metadata": {
        "id": "KSGCd7XB1z8k"
      },
      "outputs": [],
      "source": [
        "def linear_policy(params, obs):\n",
        "  \"\"\"A simple linear policy\n",
        "\n",
        "  Args:\n",
        "    params: a vector of four real-numbers that give the parameters of the policy\n",
        "    obs: a vector of four real-numbers that give the agent's observation\n",
        "\n",
        "  Returns:\n",
        "    a discrete action given by a 0 or 1\n",
        "  \"\"\"\n",
        "  # YOUR CODE\n",
        "  dot_product_result = jnp.dot(params, obs)\n",
        "\n",
        "  action = jax.lax.select(\n",
        "      dot_product_result > 0,  # boolean statement\n",
        "      1,                      # result when the statement is True\n",
        "      0                       # result when the statement is False\n",
        "  )\n",
        "  # END YOUR CODE\n",
        "  return action"
      ]
    },
    {
      "cell_type": "code",
      "execution_count": null,
      "metadata": {
        "id": "9EnnBvceb1f3",
        "colab": {
          "base_uri": "https://localhost:8080/"
        },
        "outputId": "03738c6e-0862-4020-dbee-5bc2e94d9a84"
      },
      "outputs": [
        {
          "output_type": "stream",
          "name": "stdout",
          "text": [
            "Your function is correct!\n"
          ]
        }
      ],
      "source": [
        "# @title Проверка упр 1  { display-mode: \"form\" }\n",
        "\n",
        "def check_linear_policy(linear_policy):\n",
        "  fixed_obs = jnp.array([1,1,2,4])\n",
        "\n",
        "  # check case1 - negative dot product.\n",
        "  # weights\n",
        "  params1 = jnp.array([1,1,1,1])\n",
        "  params2 = jnp.array([-1,-1,-1,-1])\n",
        "\n",
        "  hint1 = f\"Неправильный ответ, ваша линейная политика неверна. Действие при \\\n",
        "obs={fixed_obs} и params={params1} должно быть 1\"\n",
        "\n",
        "  hint2 = f\"Неправильный ответ, ваша линейная политика неверна. Действие при \\\n",
        "obs={fixed_obs} и params={params2} должно быть 0\"\n",
        "\n",
        "  hint = None\n",
        "  if linear_policy(params1, fixed_obs) != 1:\n",
        "    hint = hint1\n",
        "  elif linear_policy(params2, fixed_obs) != 0:\n",
        "    hint = hint2\n",
        "\n",
        "  if hint is not None:\n",
        "    print(hint)\n",
        "  else:\n",
        "    print(\"Your function is correct!\")\n",
        "\n",
        "try:\n",
        "  check_linear_policy(linear_policy)\n",
        "except Exception as e:\n",
        "    print(\"An Error Occured: {}\".format(e))"
      ]
    },
    {
      "cell_type": "markdown",
      "metadata": {
        "id": "PkuvT-jf6Ieh"
      },
      "source": [
        "### Функция перехода среды - $P$\n",
        "\n",
        "Теперь, когда у нас есть политика, мы можем передавать действия от агента среде. Затем среда перейдет в новое состояние в ответ на действие агента.\n",
        "\n",
        "В RL мы моделируем этот процесс с помощью **функции перехода состояния** $P$, которая принимает текущее состояние $s_t$ и действие $a_t$ в качестве входных данных и возвращает следующее состояние $s_{t+1}$ в качестве выходных данных:\n",
        "\n",
        "<center>\n",
        "$s_{t+1}=P(s_t, a_t)$\n",
        "</center>\n",
        "\n",
        "В gym мы можем передавать действия среде, вызывая функцию `env.step(<action>)`. Затем функция вернет четыре значения:\n",
        "- **следующее наблюдение**\n",
        "- **награду** за выполненное действие\n",
        "- логический флаг, указывающий, **завершена** игра\n",
        "- некоторую **дополнительную** информацию."
      ]
    },
    {
      "cell_type": "code",
      "execution_count": null,
      "metadata": {
        "id": "hh0j9-Tk7olb",
        "colab": {
          "base_uri": "https://localhost:8080/"
        },
        "outputId": "6b4f678f-9d49-4575-f468-c6234c3f80bc"
      },
      "outputs": [
        {
          "output_type": "stream",
          "name": "stdout",
          "text": [
            "Observation: [ 0.02656474 -0.00118991  0.04421274  0.0035247 ]\n",
            "Action: 0\n",
            "Next observation: [ 0.02654095 -0.19691713  0.04428323  0.30982295]\n",
            "Reward: 1.0\n",
            "Game is done: False\n"
          ]
        }
      ],
      "source": [
        "# Get the initial obs by resetting the env\n",
        "initial_obs = env.reset()\n",
        "\n",
        "# Randomly sample actions from env\n",
        "action = env.action_space.sample()\n",
        "\n",
        "# Step the environment\n",
        "next_obs, reward, done, info = env.step(action)\n",
        "\n",
        "print(\"Observation:\", initial_obs)\n",
        "print(\"Action:\", action)\n",
        "print(\"Next observation:\", next_obs)\n",
        "print(\"Reward:\", reward)\n",
        "print(\"Game is done:\", done)"
      ]
    },
    {
      "cell_type": "markdown",
      "metadata": {
        "id": "bX9iZtu48UYn"
      },
      "source": [
        "### Возврат эпизода - $R_t$\n",
        "\n",
        "В RL мы обычно разбиваем взаимодействие агента с окружающей средой на **эпизоды**. Сумма всех вознаграждений, собранных во время эпизода, - это то, что мы называем **возвратом** эпизода - $R_t$:\n",
        "\n",
        "<center>\n",
        "$R_t=\\sum_{t=0}^Tr_t$,\n",
        "</center>\n",
        "\n",
        "где $r_t$ - это вознаграждение в момент времени $t$, а $T$ - это последний временной шаг. Цель в RL - выбрать действия, которые максимизируют этот ожидаемый будущий возврат $R_t$."
      ]
    },
    {
      "cell_type": "markdown",
      "metadata": {
        "id": "y6KZA1Nq9p47"
      },
      "source": [
        "### Цикл агент-среда\n",
        "Теперь, когда мы знаем, что такое политика, и знаем, как пошагово проходить среду, давайте закроем цикл агент-среда.\n",
        "\n",
        "**Упражнение 2:** Напишите функцию, которая запускает один эпизод CartPole, последовательно выбирая действия и пошагово проходя среду. Вам следует использовать линейную политику, которую мы определили ранее, для выбора действий. Функция должна отслеживать полученное вознаграждение и выводить возврат в конце эпизода.\n",
        "\n",
        "В CartPole агент получает вознаграждение `1` за каждый временной шаг, когда шест все еще стоит вертикально. Если шест падает, игра заканчивается, и агент больше не получает вознаграждения. Игра также заканчивается после `200` временных шагов, поэтому максимальное вознаграждение, которое может получить агент, составляет `200`."
      ]
    },
    {
      "cell_type": "code",
      "execution_count": null,
      "metadata": {
        "id": "Buy0X7mi-gHP"
      },
      "outputs": [],
      "source": [
        "def run_episode(env):\n",
        "  episode_return = 0 # counter to keep track of rewards\n",
        "  done = False # initially set to False\n",
        "  params = jnp.array([1,-2,2,-1]) # fixed policy parameters\n",
        "\n",
        "  ## YOUR CODE\n",
        "\n",
        "  obs = env.reset() # TODO: get the initial obs from the env\n",
        "\n",
        "  while not done: # loop until episode is done\n",
        "\n",
        "    action = linear_policy(params, obs) # TODO: compute action using linear policy\n",
        "    action = np.array(action) # We need to the convert the action from the policy to a np.array\n",
        "\n",
        "    obs, reward, done, info = env.step(action) # TODO: step the environment\n",
        "\n",
        "    episode_return += reward # TODO: add reward to episode return\n",
        "\n",
        "  return episode_return"
      ]
    },
    {
      "cell_type": "code",
      "execution_count": null,
      "metadata": {
        "id": "bA2Orj9PVbKO",
        "colab": {
          "base_uri": "https://localhost:8080/"
        },
        "outputId": "821edacf-3439-4f3d-9adb-73b3732f4a56"
      },
      "outputs": [
        {
          "output_type": "stream",
          "name": "stdout",
          "text": [
            "Looks correct!\n"
          ]
        }
      ],
      "source": [
        "# @title Проверка упр 2 (run me) { display-mode: \"form\" }\n",
        "\n",
        "try:\n",
        "  env.seed(42)\n",
        "  if run_episode(env) == 31:\n",
        "    print(\"Looks correct!\")\n",
        "  else:\n",
        "    print(\"Looks like your implementation might be wrong.\")\n",
        "except Exception as e:\n",
        "    print(\"An Error Occured: {}\".format(e))"
      ]
    },
    {
      "cell_type": "markdown",
      "metadata": {
        "id": "fUGdzHxJnZGl"
      },
      "source": [
        "В CartPole среда считается решенной, когда агент может надежно достичь возврата эпизода 500. Как вы можете видеть, наша текущая политика далека от оптимальной.\n",
        "\n",
        "Один из способов найти оптимальную политику — это случайным образом пробовать разные политики, пока не найдем оптимальную. Эта стратегия называется случайным поиском политики и может быть на удивление эффективной.\n",
        "\n",
        "Прежде чем мы реализуем случайный поиск политики, давайте быстро рассмотрим общий цикл обучения RL, который мы будем использовать для реализации алгоритмов в оставшейся части этого руководства.\n",
        "\n",
        "### Цикл обучения RL общего назначения\n",
        "Мы реализовали для вас цикл обучения RL общего назначения. Цикл обучения принимает несколько аргументов в качестве входных данных, но три наиболее важных для понимания — это `agent_select_action_func`, `agent_learn_func` и `agent_memory`.\n",
        "\n",
        "* `agent_select_action_func` — это функция, которую мы определяем и можем передать в цикл обучения. Функция принимает наблюдение и набор `agent_params` в качестве входных данных и должна возвращать действие.\n",
        "* `agent_learn_func` — это еще один метод, который мы определяем и передаем в цикл обучения. Он должен принимать параметры агента и некоторые «воспоминания» в качестве входных данных, а затем обновлять и возвращать агентам новые параметры.\n",
        "* `agent_memory` — это модуль общего назначения, который мы определяем, который может хранить некоторую релевантную информацию об опыте агента в среде, которую можно использовать в `agent_learn_func`.\n",
        "\n",
        "Ниже приведена функция цикла обучения, которую мы реализовали для вас. Вы можете просмотреть код и попытаться понять его, но это не обязательно. Таким образом, мы скрыли код по умолчанию, просто убедитесь, что вы запустили ячейку кода, прежде чем двигаться дальше, потому что цикл обучения далее в коде."
      ]
    },
    {
      "cell_type": "code",
      "execution_count": null,
      "metadata": {
        "id": "ZWBwz3zMRjM0"
      },
      "outputs": [],
      "source": [
        "#@title Training loop (run me) { display-mode: \"form\" }\n",
        "\n",
        "# NamedTuple to store transitions\n",
        "Transition = collections.namedtuple(\"Transition\", [\"obs\", \"action\", \"reward\", \"next_obs\", \"done\"])\n",
        "\n",
        "# Training Loop\n",
        "def run_training_loop(env_name, agent_params, agent_select_action_func,\n",
        "    agent_actor_state=None, agent_learn_func=None, agent_learner_state=None,\n",
        "    agent_memory=None, num_episodes=1000, evaluator_period=100,\n",
        "    evaluation_episodes=8, learn_steps_per_episode=1,\n",
        "    train_every_timestep=False, video_subdir=\"\",):\n",
        "    \"\"\"\n",
        "    This function runs several episodes in an environment and periodically does\n",
        "    some agent learning and evaluation.\n",
        "\n",
        "    Args:\n",
        "        env: a gym environment.\n",
        "        agent_params: an object to store parameters that the agent uses.\n",
        "        agent_select_func: a function that does action selection for the agent.\n",
        "        agent_actor_state (optional): an object that stores the internal state\n",
        "            of the agents action selection function.\n",
        "        agent_learn_func (optional): a function that does some learning for the\n",
        "            agent by updating the agent parameters.\n",
        "        agent_learn_state (optional): an object that stores the internal state\n",
        "            of the agent learn function.\n",
        "        agent_memory (optional): an object for storing an retrieving historical\n",
        "            experience.\n",
        "        num_episodes: how many episodes to run.\n",
        "        evaluator_period: how often to run evaluation.\n",
        "        evaluation_episodes: how many evaluation episodes to run.\n",
        "        train_every_timestep: whether to train every timestep rather than at the end\n",
        "            of the episode.\n",
        "        video_subdir: subdirectory to store epsiode recordings.\n",
        "\n",
        "    Returns:\n",
        "        episode_returns: list of all the episode returns.\n",
        "        evaluator_episode_returns: list of all the evaluator episode returns.\n",
        "    \"\"\"\n",
        "\n",
        "    # Setup Cartpole environment and recorder\n",
        "    env = gym.make(env_name, render_mode=\"rgb_array\") # training environment\n",
        "    eval_env = gym.make(env_name, render_mode=\"rgb_array\") # evaluation environment\n",
        "\n",
        "    # Video dir\n",
        "    video_dir = \"./video\"+\"/\"+video_subdir\n",
        "\n",
        "    # Clear video dir\n",
        "    try:\n",
        "      rmtree(video_dir)\n",
        "    except:\n",
        "      pass\n",
        "\n",
        "    # Wrap in recorder\n",
        "    env = RecordVideo(env, video_dir+\"/train\", episode_trigger=lambda x: (x % evaluator_period) == 0)\n",
        "    eval_env = RecordVideo(eval_env, video_dir+\"/eval\", episode_trigger=lambda x: (x % evaluation_episodes) == 0)\n",
        "\n",
        "    # JAX random number generator\n",
        "    rng = hk.PRNGSequence(jax.random.PRNGKey(0))\n",
        "    env.seed(0) # seed environment for reproducability\n",
        "    random.seed(0)\n",
        "\n",
        "    episode_returns = [] # List to store history of episode returns.\n",
        "    evaluator_episode_returns = [] # List to store history of evaluator returns.\n",
        "    timesteps = 0\n",
        "    for episode in range(num_episodes):\n",
        "\n",
        "        # Reset environment.\n",
        "        obs = env.reset()\n",
        "        episode_return = 0\n",
        "        done = False\n",
        "\n",
        "        while not done:\n",
        "\n",
        "            # Agent select action.\n",
        "            action, agent_actor_state = agent_select_action_func(\n",
        "                                            next(rng),\n",
        "                                            agent_params,\n",
        "                                            agent_actor_state,\n",
        "                                            np.array(obs)\n",
        "                                        )\n",
        "\n",
        "            # Step environment.\n",
        "            next_obs, reward, done, _ = env.step(int(action))\n",
        "\n",
        "            # Pack into transition.\n",
        "            transition = Transition(obs, action, reward, next_obs, done)\n",
        "\n",
        "            # Add transition to memory.\n",
        "            if agent_memory: # check if agent has memory\n",
        "              agent_memory.push(transition)\n",
        "\n",
        "            # Add reward to episode return.\n",
        "            episode_return += reward\n",
        "\n",
        "            # Set obs to next obs before next environment step. CRITICAL!!!\n",
        "            obs = next_obs\n",
        "\n",
        "            # Increment timestep counter\n",
        "            timesteps += 1\n",
        "\n",
        "            # Maybe learn every timestep\n",
        "            if train_every_timestep and (timesteps % 4 == 0) and agent_memory and agent_memory.is_ready(): # Make sure memory is ready\n",
        "                # First sample memory and then pass the result to the learn function\n",
        "                memory = agent_memory.sample()\n",
        "                agent_params, agent_learner_state = agent_learn_func(\n",
        "                                                        next(rng),\n",
        "                                                        agent_params,\n",
        "                                                        agent_learner_state,\n",
        "                                                        memory\n",
        "                                                    )\n",
        "\n",
        "        episode_returns.append(episode_return)\n",
        "\n",
        "        # At the end of every episode we do a learn step.\n",
        "        if agent_memory and agent_memory.is_ready(): # Make sure memory is ready\n",
        "\n",
        "            for _ in range(learn_steps_per_episode):\n",
        "                # First sample memory and then pass the result to the learn function\n",
        "                memory = agent_memory.sample()\n",
        "                agent_params, agent_learner_state = agent_learn_func(\n",
        "                                                        next(rng),\n",
        "                                                        agent_params,\n",
        "                                                        agent_learner_state,\n",
        "                                                        memory\n",
        "                                                    )\n",
        "\n",
        "        if (episode % evaluator_period) == 0: # Do evaluation\n",
        "\n",
        "            evaluator_episode_return = 0\n",
        "            for eval_episode in range(evaluation_episodes):\n",
        "                obs = eval_env.reset()\n",
        "                done = False\n",
        "                while not done:\n",
        "                    action, _ = agent_select_action_func(\n",
        "                                    next(rng),\n",
        "                                    agent_params,\n",
        "                                    agent_actor_state,\n",
        "                                    np.array(obs),\n",
        "                                    evaluation=True\n",
        "                                )\n",
        "\n",
        "                    obs, reward, done, _ = eval_env.step(int(action))\n",
        "\n",
        "                    evaluator_episode_return += reward\n",
        "\n",
        "            evaluator_episode_return /= evaluation_episodes\n",
        "\n",
        "            evaluator_episode_returns.append(evaluator_episode_return)\n",
        "\n",
        "            logs = [\n",
        "                    f\"Episode: {episode}\",\n",
        "                    f\"Episode Return: {episode_return}\",\n",
        "                    f\"Average Episode Return: {np.mean(episode_returns[-20:])}\",\n",
        "                    f\"Evaluator Episode Return: {evaluator_episode_return}\"\n",
        "            ]\n",
        "\n",
        "            print(*logs, sep=\"\\t\") # Print the logs\n",
        "\n",
        "    env.close()\n",
        "    eval_env.close()\n",
        "\n",
        "    return episode_returns, evaluator_episode_returns"
      ]
    },
    {
      "cell_type": "markdown",
      "metadata": {
        "id": "CTPlIq4oDBPY"
      },
      "source": [
        "##2. Случайный поиск политики (RPS)\n",
        "В разделе 1 мы использовали фиксированный набор параметров для нашей политики. То есть мы не изучали параметры $\\pi$ $\\theta$, мы просто сохранили их фиксированными ( `params = [1,-2,2,-1]`).\n",
        "\n",
        "Теперь мы реализуем случайный поиск политики (RPS), который представляет собой алгоритм, который случайным образом пробует различные параметры политики и отслеживает лучшие параметры, найденные на данный момент. Мы скажем, что параметры политики $\\theta_A$ лучше параметров $\\theta_B$, если средний возврат эпизода, достигнутый за последние 20 эпизодов политикой с параметрами $\\theta_A$, больше, чем у политики с параметрами $\\theta_B$.\n",
        "\n",
        "Чтобы отслеживать «текущие» параметры, а также «лучшие» параметры, мы будем использовать [NamedTuple](https://www.geeksforgeeks.org/namedtuple-in-python/)."
      ]
    },
    {
      "cell_type": "code",
      "execution_count": null,
      "metadata": {
        "id": "1DcaC-PQRjM1",
        "colab": {
          "base_uri": "https://localhost:8080/"
        },
        "outputId": "98101479-0a5c-4e3f-ce12-baf9778f1059"
      },
      "outputs": [
        {
          "output_type": "stream",
          "name": "stdout",
          "text": [
            "Best params: [0. 0. 0. 0.]\n",
            "Current params: [-1. -1. -1. -1.]\n"
          ]
        }
      ],
      "source": [
        "# Parameter container for Random Policy Search\n",
        "RandomPolicySearchParams = collections.namedtuple(\"RandomPolicySearchParams\", [\"current\", \"best\"])\n",
        "\n",
        "# TEST: store two different sets of parameters\n",
        "current_params = np.ones(obs_shape) * -1\n",
        "best_params = np.zeros(obs_shape)\n",
        "rps_params = RandomPolicySearchParams(current_params, best_params)\n",
        "\n",
        "# How to access the best or current params.\n",
        "print(f\"Best params: {rps_params.best}\")\n",
        "print(f\"Current params: {rps_params.current}\")"
      ]
    },
    {
      "cell_type": "markdown",
      "metadata": {
        "id": "v91pDDzGex9a"
      },
      "source": [
        "Далее мы реализуем следующее:\n",
        "- **Функция выбора действия RPS** - определяет, как мы выбираем действия с учетом набора параметров.\n",
        "- **Модуль памяти RPS** - определяет, какой опыт хранить из взаимодействий со средой.\n",
        "- **Функция обучения RPS** - определяет, как мы обновляем и улучшаем параметры нашей политики."
      ]
    },
    {
      "cell_type": "markdown",
      "metadata": {
        "id": "0tExceGeGNYH"
      },
      "source": [
        "### Функция выбора действия RPS\n",
        "Давайте реализуем функцию с именем `random_policy_search_choose_action`, которую мы можем передать в цикл обучения. Функция должна принимать несколько аргументов, чтобы она могла хорошо взаимодействовать с нашим обобщенным циклом обучения, но вам нужно будет использовать только три из них - `params`, `obs` и `evaluation`.\n",
        "\n",
        "- `params` - это экземпляр `RandomPolicySearchParams` с \"current\" и \"best\".\n",
        "- `obs` - это последнее наблюдение из среды.\n",
        "- `evaluation` - это логическое значение, которое указывает, следует ли нам использовать параметры \"current\" или \"best\". Когда `evaluation==True`, мы должны использовать параметры \"best\", в противном случае мы должны использовать параметры \"current\".\n",
        "\n",
        "**Упражнение 3:** Реализуйте функцию `random_policy_search_choose_action`, как описано выше. Вам следует использовать метод `linear_policy`, который мы определили ранее. Вам также понадобится `jax.lax.select()` для условного возврата \"лучшего\" действия или \"текущего\" действия."
      ]
    },
    {
      "cell_type": "code",
      "execution_count": null,
      "metadata": {
        "id": "1kmwT35JRjM1"
      },
      "outputs": [],
      "source": [
        "def random_policy_search_choose_action(\n",
        "    key,\n",
        "    params,\n",
        "    actor_state,\n",
        "    obs,\n",
        "    evaluation=False\n",
        "):\n",
        "  \"\"\"Random policy search select action method.\n",
        "\n",
        "  Args:\n",
        "    key: a random number (seed). Not used in this function.\n",
        "    params: the agent's parameters. In this case an instance of `RandomPolicySearchParams`\n",
        "    actor_state: some extra information about the actor. Not used in this function.\n",
        "    obs: the latest observation.\n",
        "    evaluation: a boolean indicating whether to use the best \"parameters\" or the \"current\" ones.\n",
        "\n",
        "  Returns:\n",
        "    The chosen action and the updated actor_state. In this function the actor_state is not updated.\n",
        "  \"\"\"\n",
        "\n",
        "  # YOUR CODE\n",
        "\n",
        "  best_action = linear_policy(params.best, obs)\n",
        "\n",
        "  current_action = linear_policy(params.current, obs)\n",
        "\n",
        "  action = jax.lax.select(\n",
        "      evaluation,  # If evaluation is True\n",
        "      best_action,  # Use the best action\n",
        "      current_action  # Otherwise, use the current action\n",
        "  )\n",
        "\n",
        "  # END YOUR CODE\n",
        "\n",
        "  return action, actor_state"
      ]
    },
    {
      "cell_type": "code",
      "execution_count": null,
      "metadata": {
        "id": "YE4xoAgyI3kG",
        "colab": {
          "base_uri": "https://localhost:8080/"
        },
        "outputId": "4d802f33-d042-4304-9b20-ac4afc8117f1"
      },
      "outputs": [
        {
          "output_type": "stream",
          "name": "stdout",
          "text": [
            "Your function looks correct.\n"
          ]
        }
      ],
      "source": [
        "# @title Проверка упр 3 (run me) {display-mode: \"form\"}\n",
        "\n",
        "def check_random_policy_search_choose_action(choose_action):\n",
        "  key = None # not used\n",
        "  actor_state = None # not used\n",
        "\n",
        "  # obs\n",
        "  obs = np.ones(obs_shape)\n",
        "\n",
        "  evaluation=False\n",
        "  current_params = np.ones(obs_shape) * -1\n",
        "  best_params = np.ones(obs_shape)\n",
        "  rps_params = RandomPolicySearchParams(current_params, best_params)\n",
        "  action, actor_state = choose_action(key,rps_params,actor_state,obs,evaluation)\n",
        "  if action != 0:\n",
        "    return False\n",
        "\n",
        "  evaluation=True\n",
        "  current_params = np.ones(obs_shape) * -1\n",
        "  best_params = np.ones(obs_shape)\n",
        "  rps_params = RandomPolicySearchParams(current_params, best_params)\n",
        "  action, actor_state = choose_action(key,rps_params,actor_state,obs,evaluation)\n",
        "  if action != 1:\n",
        "    return False\n",
        "\n",
        "  return True\n",
        "\n",
        "try:\n",
        "  if check_random_policy_search_choose_action(random_policy_search_choose_action):\n",
        "    print(\"Your function looks correct.\")\n",
        "  else:\n",
        "    print(\"Your function looks incorrect.\")\n",
        "except Exception as e:\n",
        "    print(\"An Error Occured: {}\".format(e))"
      ]
    },
    {
      "cell_type": "markdown",
      "metadata": {
        "id": "6zu51ep7Sh0M"
      },
      "source": [
        "### Память агента RPS\n",
        "\n",
        "Для алгоритма поиска случайной политики нам нужно будет отслеживать средний возврат эпизода для последних 50 эпизодов. Помните, что мы сказали, что «текущие» параметры будут считаться «лучшими» параметрами, если средний возврат эпизода при использовании этих параметров больше предыдущего лучшего среднего возврата эпизода.\n",
        "\n",
        "Мы будем использовать интерфейс памяти общего назначения, который довольно прост. Модуль памяти должен иметь три метода. Первый — это функция `memory.push(<transition>)`, которая добавляет некоторую информацию о последнем переходе среды в память. Второй — это функция `memory.is_ready()`, которая проверяет, готова ли память к обучению. Наконец, функция `memory.sample()` должна возвращать последний набор воспоминаний, которые можно передать в `agent_learn_func`.\n",
        "\n",
        "#### Память среднего возврата эпизода\n",
        "Мы создали для вас простой модуль памяти агента. Он хранит `epsisode_returns` последних 20 эпизодов. Прочитайте нашу реализацию ниже и посмотрите, сможете ли вы ее понять. Метод `memory.sample()` возвращает средний возврат эпизода за последние 20 эпизодов."
      ]
    },
    {
      "cell_type": "code",
      "execution_count": null,
      "metadata": {
        "id": "YVkTBIK5RjM1"
      },
      "outputs": [],
      "source": [
        "class AverageEpisodeReturnBuffer:\n",
        "\n",
        "    def __init__(self, num_episodes_to_store=50):\n",
        "        \"\"\"\n",
        "        This class implements an agent memory that stores the average episode\n",
        "        return over the last 50 episodes.\n",
        "        \"\"\"\n",
        "        self.num_episodes_to_store = num_episodes_to_store\n",
        "        self.episode_return_buffer = []\n",
        "        self.current_episode_return = 0\n",
        "\n",
        "    def push(self, transition):\n",
        "        self.current_episode_return += transition.reward\n",
        "\n",
        "        if transition.done: # If the episode is done\n",
        "            # Add episode return to buffer\n",
        "            self.episode_return_buffer.append(self.current_episode_return)\n",
        "\n",
        "            # Reset episode return\n",
        "            self.current_episode_return = 0\n",
        "\n",
        "\n",
        "    def is_ready(self):\n",
        "        return len(self.episode_return_buffer) == self.num_episodes_to_store\n",
        "\n",
        "    def sample(self):\n",
        "        average_episode_return = np.mean(self.episode_return_buffer)\n",
        "\n",
        "        # Clear episode return buffer\n",
        "        self.episode_return_buffer = []\n",
        "\n",
        "        return average_episode_return"
      ]
    },
    {
      "cell_type": "markdown",
      "metadata": {
        "id": "0oXBsSa2KjWE"
      },
      "source": [
        "### Функция обучения RPS\n",
        "Наконец, нам нужно реализовать функцию `random_policy_search_learn` для нашего алгоритма поиска случайной политики. Функция обучения довольно проста. Все, что нам нужно сделать, это проверить, лучше ли текущие параметры, чем лучшие параметры. Если они лучше, то установите лучшие параметры в качестве текущих параметров и случайным образом сгенерируйте новый набор текущих параметров.\n",
        "\n",
        "**Упражнение 4:** Напишите функцию для случайной генерации новых весов с использованием JAX. Веса должны быть выбраны из интервала `[-2,2]`.\n",
        "\n",
        "**Полезные функции:**\n",
        "*   `jax.random.uniform` ([docs](https://jax.readthedocs.io/en/latest/_autosummary/jax.random.uniform.html#jax.random.uniform))\n",
        "\n"
      ]
    },
    {
      "cell_type": "code",
      "execution_count": null,
      "metadata": {
        "id": "8V2yFM2XMjGW"
      },
      "outputs": [],
      "source": [
        "def get_new_random_weights(random_key, old_weights, minval=-2.0, maxval=2.0):\n",
        "    new_weights_shape = old_weights.shape # you will need to use these values\n",
        "    new_weights_dtype = old_weights.dtype # you will need to use these values\n",
        "\n",
        "    # YOUR CODE\n",
        "    new_params = jax.random.uniform(\n",
        "    random_key,\n",
        "    shape=new_weights_shape,\n",
        "    dtype=new_weights_dtype,\n",
        "    minval=minval,\n",
        "    maxval=maxval)\n",
        "\n",
        "    # END YOUR CODE\n",
        "    return new_params"
      ]
    },
    {
      "cell_type": "code",
      "execution_count": null,
      "metadata": {
        "id": "T8ifHTKGQlAd",
        "colab": {
          "base_uri": "https://localhost:8080/"
        },
        "outputId": "db9bf531-409f-4374-b503-dd6cfb5c4e2b"
      },
      "outputs": [
        {
          "output_type": "stream",
          "name": "stdout",
          "text": [
            "Function is correct!\n"
          ]
        }
      ],
      "source": [
        "# @title Проверка упр 4 (run me) {display-mode: \"form\"}\n",
        "\n",
        "def check_get_new_random_weights(get_new_random_weights):\n",
        "  old_weights = np.ones(obs_shape, \"float32\")\n",
        "  random_key = jax.random.PRNGKey(42)\n",
        "\n",
        "  # Case 1\n",
        "  new_weights = get_new_random_weights(random_key, old_weights, minval=-2.0, maxval=2.0)\n",
        "\n",
        "  if jnp.array_equal(new_weights, jnp.array([ 0.29657745,1.4265499, -1.7621555, -1.7505779 ])):\n",
        "    print(\"Function is correct!\")\n",
        "  else:\n",
        "    print(\"Something is wrong.\")\n",
        "\n",
        "try:\n",
        "  check_get_new_random_weights(get_new_random_weights)\n",
        "except Exception as e:\n",
        "    print(\"An Error Occured: {}\".format(e))"
      ]
    },
    {
      "cell_type": "markdown",
      "metadata": {
        "id": "2Djxc9j-LzkM"
      },
      "source": [
        "Наша функция обучения получает память в форме среднего возврата эпизода из `AverageEpisodeReturnMemory`, которую мы реализовали ранее. Мы можем использовать это для сравнения текущих параметров с лучшими параметрами. Но нам также нужно будет отслеживать лучший средний возврат эпизода для функции обучения. Для этого мы можем использовать аргумент `learn_state`, который передается в `agent_learn_func` в нашем цикле обучения. Как и в случае с `RandomPolicySearchParams`, мы будем использовать NamedTuple для хранения `best_average_episode_return` в `learn_state`."
      ]
    },
    {
      "cell_type": "code",
      "execution_count": null,
      "metadata": {
        "id": "4cSH4uYmRjM2",
        "colab": {
          "base_uri": "https://localhost:8080/"
        },
        "outputId": "39bf8bcf-a20c-4bd3-d010-8ba5fa483f0f"
      },
      "outputs": [
        {
          "output_type": "stream",
          "name": "stdout",
          "text": [
            "Initial best average episode return: -inf\n"
          ]
        }
      ],
      "source": [
        "# A NamedTuple to store the best average episode return so far\n",
        "RandomPolicyLearnState = collections.namedtuple(\n",
        "  \"RandomPolicyLearnState\",\n",
        "  [\"best_average_episode_return\"]\n",
        ")\n",
        "\n",
        "# Test\n",
        "initial_learn_state = RandomPolicyLearnState(best_average_episode_return=-float(\"inf\"))\n",
        "print(\"Initial best average episode return:\", initial_learn_state.best_average_episode_return)"
      ]
    },
    {
      "cell_type": "markdown",
      "metadata": {
        "id": "PxZXdP8bOu6b"
      },
      "source": [
        "Теперь у нас есть все необходимое для реализации функции `random_policy_search_learn`.\n",
        "\n",
        "**Упражнение 5:** Реализуйте функцию `random_policy_search_learn`. Функция должна проверять, лучше ли «текущие» параметры, чем «лучшие» параметры, сравнивая `current_average_episode_return` с `best_average_episode_return`. Функция также должна обновлять `learn_state`."
      ]
    },
    {
      "cell_type": "code",
      "execution_count": null,
      "metadata": {
        "id": "Te_Q3qzmZcN_"
      },
      "outputs": [],
      "source": [
        "def random_policy_search_learn(key, params, learn_state, memory):\n",
        "    best_params = params.best\n",
        "    current_params = params.current\n",
        "\n",
        "    current_average_episode_return = memory # the memory contains the average episode return\n",
        "    best_average_episode_return = learn_state.best_average_episode_return\n",
        "\n",
        "\n",
        "    # YOUR CODE\n",
        "\n",
        "    best_params = jax.lax.select(\n",
        "        current_average_episode_return > best_average_episode_return,\n",
        "        current_params,\n",
        "        best_params\n",
        "    )\n",
        "\n",
        "    best_average_episode_return = jax.lax.select(\n",
        "        current_average_episode_return > best_average_episode_return,\n",
        "        current_average_episode_return,  # Update the best return if current is better\n",
        "        best_average_episode_return      # Otherwise keep the previous best return\n",
        "    )\n",
        "\n",
        "    # END YOUR CODE\n",
        "\n",
        "    # Generate new random parameters\n",
        "    new_params = get_new_random_weights(key, current_params)\n",
        "\n",
        "    # Bundle weights in RandomPolicySearchParams NamedTuple\n",
        "    params = RandomPolicySearchParams(current=new_params, best=best_params)\n",
        "\n",
        "    return params, RandomPolicyLearnState(best_average_episode_return)"
      ]
    },
    {
      "cell_type": "code",
      "execution_count": null,
      "metadata": {
        "id": "CXHV4k2iBLBF",
        "colab": {
          "base_uri": "https://localhost:8080/"
        },
        "outputId": "b27ee7db-6215-4a6a-9fd8-caf777ac4d4e"
      },
      "outputs": [
        {
          "output_type": "stream",
          "name": "stdout",
          "text": [
            "Your function looks correct.\n"
          ]
        }
      ],
      "source": [
        "#@title Проверка упр 5 {display-mode: \"form\"}\n",
        "\n",
        "params = RandomPolicySearchParams(np.ones(obs_shape, \"float32\"), np.ones(obs_shape, \"float32\") * -1)\n",
        "learn_state = RandomPolicyLearnState(10)\n",
        "memory = 11\n",
        "key = jax.random.PRNGKey(42)\n",
        "\n",
        "try:\n",
        "  new_params, new_learn_state = random_policy_search_learn(key, params, learn_state, memory)\n",
        "\n",
        "  if not jnp.array_equal(new_params.current, jnp.array([ 0.29657745,  1.4265499 , -1.7621555 , -1.7505779 ])):\n",
        "    print(\"Your function is incorrect.\")\n",
        "\n",
        "  elif not jnp.array_equal(new_params.best, jnp.array([1., 1., 1., 1.])):\n",
        "    print(\"Your function is incorrect.\")\n",
        "\n",
        "  elif new_learn_state.best_average_episode_return != 11:\n",
        "    print(\"Your function is incorrect.\")\n",
        "\n",
        "  else:\n",
        "    print(\"Your function looks correct.\")\n",
        "except Exception as e:\n",
        "    print(\"An Error Occured: {}\".format(e))"
      ]
    },
    {
      "cell_type": "markdown",
      "metadata": {
        "id": "5Ol_AxnMBdgP"
      },
      "source": [
        "### Цикл обучения RPS\n",
        "Теперь мы можем собрать все вместе, передав модуль `memory`, функцию `learn` и функцию `choose_action` в цикл обучения. Чтобы ускорить наш алгоритм, мы будем использовать `jax.jit` в функции `learn` и функции `choose_action`."
      ]
    },
    {
      "cell_type": "code",
      "execution_count": null,
      "metadata": {
        "id": "Qx57tf7vRjM3",
        "colab": {
          "base_uri": "https://localhost:8080/",
          "height": 680
        },
        "outputId": "89929e2a-2c87-4e89-c2ce-43ff1fd8dce2"
      },
      "outputs": [
        {
          "output_type": "stream",
          "name": "stdout",
          "text": [
            "Starting training. This may take up to 5 minutes to complete.\n",
            "Episode: 0\tEpisode Return: 80.0\tAverage Episode Return: 80.0\tEvaluator Episode Return: 135.125\n",
            "Episode: 100\tEpisode Return: 45.0\tAverage Episode Return: 10.8\tEvaluator Episode Return: 116.5\n",
            "Episode: 200\tEpisode Return: 43.0\tAverage Episode Return: 109.05\tEvaluator Episode Return: 118.125\n",
            "Episode: 300\tEpisode Return: 51.0\tAverage Episode Return: 11.6\tEvaluator Episode Return: 131.75\n",
            "Episode: 400\tEpisode Return: 200.0\tAverage Episode Return: 136.55\tEvaluator Episode Return: 137.75\n",
            "Episode: 500\tEpisode Return: 54.0\tAverage Episode Return: 21.9\tEvaluator Episode Return: 156.875\n",
            "Episode: 600\tEpisode Return: 9.0\tAverage Episode Return: 96.25\tEvaluator Episode Return: 137.625\n",
            "Episode: 700\tEpisode Return: 10.0\tAverage Episode Return: 102.2\tEvaluator Episode Return: 187.375\n",
            "Episode: 800\tEpisode Return: 10.0\tAverage Episode Return: 24.3\tEvaluator Episode Return: 169.375\n",
            "Episode: 900\tEpisode Return: 154.0\tAverage Episode Return: 16.3\tEvaluator Episode Return: 126.125\n",
            "Episode: 1000\tEpisode Return: 133.0\tAverage Episode Return: 15.9\tEvaluator Episode Return: 185.625\n"
          ]
        },
        {
          "output_type": "display_data",
          "data": {
            "text/plain": [
              "<Figure size 640x480 with 1 Axes>"
            ],
            "image/png": "[encoded data removed]"
          },
          "metadata": {}
        }
      ],
      "source": [
        "# JIT the learn and choose action functions\n",
        "random_policy_search_learn_jit = jax.jit(random_policy_search_learn)\n",
        "random_policy_search_choose_action_jit = jax.jit(random_policy_search_choose_action)\n",
        "\n",
        "# Initialise the parameters\n",
        "initial_weights = np.ones(obs_shape, \"float32\")\n",
        "initial_params = RandomPolicySearchParams(initial_weights, initial_weights)\n",
        "\n",
        "# Initialise the learn state\n",
        "initial_learn_state = RandomPolicyLearnState(best_average_episode_return=-float(\"inf\"))\n",
        "\n",
        "# Initialise memory\n",
        "memory = AverageEpisodeReturnBuffer(num_episodes_to_store=50)\n",
        "\n",
        "# Run the training loop\n",
        "print(\"Starting training. This may take up to 5 minutes to complete.\")\n",
        "chex.clear_trace_counter()\n",
        "episode_return, evaluator_episode_returns = run_training_loop(\n",
        "                                        env_name,\n",
        "                                        initial_params,\n",
        "                                        random_policy_search_choose_action_jit,\n",
        "                                        None, # no actor state\n",
        "                                        random_policy_search_learn_jit,\n",
        "                                        initial_learn_state,\n",
        "                                        memory,\n",
        "                                        num_episodes=1001,\n",
        "                                        video_subdir=\"rps\"\n",
        "                                    )\n",
        "\n",
        "# Plot graph of evaluator episode returns\n",
        "plt.plot(np.linspace(0, 1000, len(evaluator_episode_returns)), evaluator_episode_returns)\n",
        "plt.title(\"Random Policy Search\")\n",
        "plt.xlabel(\"Episodes\")\n",
        "plt.ylabel(\"Episode Return\")\n",
        "plt.show()"
      ]
    },
    {
      "cell_type": "markdown",
      "metadata": {
        "id": "TG10FG6uS05A"
      },
      "source": [
        "Надеюсь, вы нашли набор оптимальных параметров на CartPole (возврат эпизода достигает `200`). В ячейке ниже вы можете посмотреть несколько видеороликов агента, выполняющего задание."
      ]
    },
    {
      "cell_type": "code",
      "execution_count": null,
      "metadata": {
        "id": "KgayDJ7KWC4C",
        "colab": {
          "base_uri": "https://localhost:8080/",
          "height": 289
        },
        "outputId": "4cd9d98c-8205-4359-b067-1ddf5fb79d88"
      },
      "outputs": [
        {
          "output_type": "execute_result",
          "data": {
            "text/plain": [
              "<IPython.core.display.HTML object>"
            ],
            "text/html": [
              "\n",
              "<video width=400 controls>\n",
              "      <source src=\"data:video/mp4;base64,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\" type=\"video/mp4\">\n",
              "</video>\n"
            ]
          },
          "metadata": {},
          "execution_count": 26
        }
      ],
      "source": [
        "#@title Visualise Policy {display-mode: \"form\"}\n",
        "#@markdown Choose an episode number that is a multiple of 100 and less than or equal to 2000, and **run** this cell.\n",
        "episode_number = 1000 #@param {type:\"number\"}\n",
        "\n",
        "assert (episode_number % 100) == 0, \"Episode number must be a multiple of 100 since we only record every 100th episode.\"\n",
        "assert episode_number < 1001, \"Episode number must be less than or equal to 2000\"\n",
        "\n",
        "eval_episode_number = int(episode_number / 100 * 8)\n",
        "video_path = f\"./video/rps/eval/rl-video-episode-{eval_episode_number}.mp4\"\n",
        "\n",
        "mp4 = open(video_path,'rb').read()\n",
        "data_url = \"data:video/mp4;base64,\" + b64encode(mp4).decode()\n",
        "HTML(\"\"\"\n",
        "<video width=400 controls>\n",
        "      <source src=\"%s\" type=\"video/mp4\">\n",
        "</video>\n",
        "\"\"\" % data_url)"
      ]
    },
    {
      "cell_type": "markdown",
      "metadata": {
        "id": "Xwf1IKKbrrVn"
      },
      "source": [
        "Итак, случайный поиск политики справился с этой задачей довольно хорошо. Однако здесь происходит очень мало (если вообще происходит) реального *обучения*. Далее давайте рассмотрим реализацию простого алгоритма RL, который может использовать свой опыт для руководства нашим поиском оптимальной политики, а не просто искать ее случайным образом."
      ]
    },
    {
      "cell_type": "markdown",
      "metadata": {
        "id": "XEnSjZVESrxc"
      },
      "source": [
        "## 3. Градиенты политики  (Policy Gradients, PG)\n",
        "Как обсуждалось, цель RL — найти политику, которая максимизирует ожидаемое совокупное вознаграждение (возврат), которое агент получает от среды. Мы можем записать ожидаемый возврат политики как:\n",
        "\n",
        "$J(\\pi_\\theta)=\\mathrm{E}_{\\tau\\sim\\pi_\\theta}\\ [R(\\tau)]$,\n",
        "\n",
        "где $\\pi_\\theta$ — это политика, параметризованная $\\theta$, $\\mathrm{E}$ означает *ожидание*, $\\tau$ — это сокращение для \"*эпизод*\", $\\tau\\sim\\pi_\\theta$ — это сокращение для \"*эпизоды, выбранные с использованием политики* $\\pi_\\theta$\", а $R(\\tau)$ — это возврат эпизода $\\tau$.\n",
        "\n",
        "Затем, цель в RL — найти параметры $\\theta$, которые максимизируют функцию $J(\\pi_\\theta)$. Один из способов найти эти параметры — выполнить градиентный подъем по $J(\\pi_\\theta)$ относительно параметров $\\theta$:\n",
        "\n",
        "$\\theta_{k+1}=\\theta_k + \\alpha \\nabla J(\\pi_\\theta)|_{\\theta_{k}}$,\n",
        "\n",
        "где $\\nabla J(\\pi_\\theta)|_{\\theta_{k}}$ — градиент ожидаемой доходности относительно параметров политики $\\theta_k$, а $\\alpha$ — размер шага. Эта величина, $\\nabla J(\\pi_\\theta)$, также называется **градиентом политики** и очень важна в RL. Если мы сможем вычислить градиент политики, то у нас будет средство, с помощью которого можно напрямую оптимизировать нашу политику.\n",
        "\n",
        "Как оказалось, у нас есть способ вычислить градиент политики, и математический вывод можно найти [здесь](https://spinningup.openai.com/en/latest/spinningup/rl_intro3.html). Но для этого руководства мы опустим вывод и просто дадим вам результат:\n",
        "\n",
        "$\\nabla_{\\theta} J(\\pi_{\\theta})=\\underset{\\tau \\sim \\pi_{\\theta}}{\\mathrm{E}}[\\sum_{t=0}^{T} \\nabla_{\\theta} \\log \\pi_{\\theta}(a_{t} \\mid s_{t}) R(\\tau)]$\n",
        "\n",
        "Неформально, градиент политики равен градиенту логарифма вероятности выбранного действия, умноженного на возврат эпизода, в котором было предпринято действие.\n"
      ]
    },
    {
      "cell_type": "markdown",
      "metadata": {
        "id": "BTnTzgtSuy-y"
      },
      "source": [
        "### REINFORCE\n",
        "REINFORCE — это простой алгоритм RL, который использует градиент политики для поиска оптимальной политики путем увеличения вероятности выбора действий (усиливающих действий), которые, как правило, приводят к эпизодам с высокой отдачей.\n",
        "\n",
        "**Упражнение 6:** Реализуйте функцию, которая берет вероятность действия и отдачу эпизода, в котором действие было предпринято, и вычисляет логарифм вероятности, умноженный на отдачу. Убедитесь, что вы используете JAX.\n",
        "\n",
        "**Полезные функции:**\n",
        "*   `jax.numpy.log`([docs](https://jax.readthedocs.io/en/latest/_autosummary/jax.numpy.log.html))"
      ]
    },
    {
      "cell_type": "code",
      "execution_count": null,
      "metadata": {
        "id": "bJObUsoUrOyV"
      },
      "outputs": [],
      "source": [
        "def compute_weighted_log_prob(action_prob, episode_return):\n",
        "\n",
        "    # YOUR CODE\n",
        "\n",
        "    log_prob = jnp.log(action_prob)\n",
        "\n",
        "    weighted_log_prob = log_prob * episode_return\n",
        "\n",
        "    # END YOUR CODE\n",
        "\n",
        "    return weighted_log_prob"
      ]
    },
    {
      "cell_type": "code",
      "execution_count": null,
      "metadata": {
        "id": "eZPoTwa1Gbm1",
        "colab": {
          "base_uri": "https://localhost:8080/"
        },
        "outputId": "77eb3527-db14-4606-f9d6-db17c5b7bd1b"
      },
      "outputs": [
        {
          "output_type": "stream",
          "name": "stdout",
          "text": [
            "Looks correct.\n"
          ]
        }
      ],
      "source": [
        "#@title Проверка упр 6 {display-mode: \"form\"}\n",
        "\n",
        "try:\n",
        "  action_prob = 0.8\n",
        "  episode_return = 100\n",
        "  result = compute_weighted_log_prob(action_prob, episode_return)\n",
        "  if result != -22.314354:\n",
        "    print(\"Your implementation looks incorrect.\")\n",
        "  else:\n",
        "    print(\"Looks correct.\")\n",
        "except Exception as e:\n",
        "    print(\"An Error Occured: {}\".format(e))"
      ]
    },
    {
      "cell_type": "markdown",
      "metadata": {
        "id": "NmgW9UJ3tIpl"
      },
      "source": [
        "### Rewards-to-go\n",
        "Выполнение градиентного подъема по градиенту логарифма вероятности действия, взвешенного по возврату эпизода, будет иметь тенденцию повышать вероятность действий, которые были в эпизодах с высоким возвратом, независимо от того, *где* в эпизоде ​​было выполнено действие. Это на самом деле не имеет большого смысла, потому что действие ближе к концу эпизода может быть подкреплено, потому что много вознаграждения было собрано ранее в эпизоде, *до* того, как было выполнено действие. Агенты RL должны на самом деле подкреплять действия только на основе их *последствий*. Вознаграждения, полученные до выполнения действия, не влияют на то, насколько хорошим было это действие: только вознаграждения, которые приходят после. Накопленные вознаграждения, полученные после выполнения действия, называются **вознаграждениями-к-переходу** и могут быть вычислены как:\n",
        "\n",
        "$\\hat{R}_i=\\sum_{t=i}^Tr_t$\n",
        "\n",
        "Сравните это с доходностью эпизода:\n",
        "\n",
        "$R(\\tau)=\\sum_{t=0}^Tr_t$\n",
        "\n",
        "Мы можем повысить надежность градиента политики, заменив доходность эпизода на вознаграждения-к-переходу. Градиент политики с оставшимися наградами задается следующим образом:\n",
        "\n",
        "$\\nabla_{\\theta} J(\\pi_{\\theta})=\\underset{\\tau \\sim \\pi_{\\theta}}{\\mathrm{E}}[\\sum_{t=0}^{T} \\nabla_{\\theta} \\log \\pi_{\\theta}(a_{t} \\mid s_{t}) \\hat{R}_t]$\n",
        "\n",
        "**Упражнение 7:** Реализуйте функцию, которая берет список всех наград, полученных в эпизоде, и вычисляет оставшиеся награды. Не беспокойтесь об использовании JAX в этой функции. Вы можете использовать обычные операции Python, такие как `for-loops`."
      ]
    },
    {
      "cell_type": "code",
      "execution_count": null,
      "metadata": {
        "id": "nV1Hww8E3dUJ"
      },
      "outputs": [],
      "source": [
        "def compute_rewards_to_go(rewards):\n",
        "    \"\"\"\n",
        "    This function should take a list of rewards as input and\n",
        "    compute the rewards-to-go for each timestep.\n",
        "\n",
        "    EXAMPLE: compute_rewards_to_go([1,2,3,4]) = [10, 9, 7, 4]\n",
        "\n",
        "    Arguments:\n",
        "        rewards[t] is the reward at time step t.\n",
        "\n",
        "    Returns:\n",
        "        rewards_to_go[t] should be the reward-to-go at timestep t.\n",
        "    \"\"\"\n",
        "\n",
        "    rewards_to_go = [0] * len(rewards)\n",
        "\n",
        "    # Compute rewards-to-go using a backward loop\n",
        "    cumulative_reward = 0\n",
        "    for t in reversed(range(len(rewards))):\n",
        "        cumulative_reward += rewards[t]\n",
        "        rewards_to_go[t] = cumulative_reward\n",
        "\n",
        "    return rewards_to_go"
      ]
    },
    {
      "cell_type": "code",
      "execution_count": null,
      "metadata": {
        "id": "hLVaVRp28YGI",
        "colab": {
          "base_uri": "https://localhost:8080/"
        },
        "outputId": "e10dfcad-96a0-4293-f11e-bb0f71b44297"
      },
      "outputs": [
        {
          "output_type": "stream",
          "name": "stdout",
          "text": [
            "Looks correct.\n"
          ]
        }
      ],
      "source": [
        "#@title Проверка упр 7 {display-mode: \"form\"}\n",
        "\n",
        "try:\n",
        "  result = compute_rewards_to_go([1,2,3,4])\n",
        "\n",
        "  if result != [10, 9, 7, 4]:\n",
        "    print(\"There is a problem with your implementation.\")\n",
        "  else:\n",
        "    print(\"Looks correct.\")\n",
        "except Exception as e:\n",
        "    print(\"An Error Occured: {}\".format(e))\n"
      ]
    },
    {
      "cell_type": "markdown",
      "metadata": {
        "id": "IboxN9MS65i5"
      },
      "source": [
        "### REINFORCE memory\n",
        "Далее нам нужно будет создать новую память агента для хранения вознаграждений $\\hat{R}_t$ вместе с наблюдением $o_t$ и действием $a_t$ на каждом временном шаге. Ниже мы реализовали такой модуль памяти для вас. Функция `memory.sample()` вернет пакет из последних 500 воспоминаний. Вы можете прочитать код, чтобы попытаться понять его, но это не обязательно. Поэтому мы скрываем код по умолчанию."
      ]
    },
    {
      "cell_type": "code",
      "execution_count": null,
      "metadata": {
        "id": "xhS4V6auRjM3"
      },
      "outputs": [],
      "source": [
        "# @title Реализация памяти (run me) {display-mode: \"form\"}\n",
        "\n",
        "# NamedTuple to store memory\n",
        "EpisodeRewardsToGoMemory = collections.namedtuple(\"EpisodeRewardsToGoMemory\", [\"obs\", \"action\", \"reward_to_go\"])\n",
        "\n",
        "class EpisodeRewardsToGoBuffer:\n",
        "\n",
        "    def __init__(self, num_transitions_to_store=512, batch_size=256):\n",
        "        self.batch_size = batch_size\n",
        "        self.memory_buffer = collections.deque(maxlen=num_transitions_to_store)\n",
        "        self.current_episode_transition_buffer = []\n",
        "\n",
        "    def push(self, transition):\n",
        "        self.current_episode_transition_buffer.append(transition)\n",
        "\n",
        "        if transition.done:\n",
        "\n",
        "            episode_rewards = []\n",
        "            for t in self.current_episode_transition_buffer:\n",
        "                episode_rewards.append(t.reward)\n",
        "\n",
        "            r2g = compute_rewards_to_go(episode_rewards)\n",
        "\n",
        "            for i, t in enumerate(self.current_episode_transition_buffer):\n",
        "                memory = EpisodeRewardsToGoMemory(t.obs, t.action, r2g[i])\n",
        "                self.memory_buffer.append(memory)\n",
        "\n",
        "            # Reset episode buffer\n",
        "            self.current_episode_transition_buffer = []\n",
        "\n",
        "\n",
        "    def is_ready(self):\n",
        "        return len(self.memory_buffer) >= self.batch_size\n",
        "\n",
        "    def sample(self):\n",
        "        random_memory_sample = random.sample(self.memory_buffer, self.batch_size)\n",
        "\n",
        "        obs_batch, action_batch, reward_to_go_batch = zip(*random_memory_sample)\n",
        "\n",
        "        return EpisodeRewardsToGoMemory(\n",
        "            np.stack(obs_batch).astype(\"float32\"),\n",
        "            np.asarray(action_batch).astype(\"int32\"),\n",
        "            np.asarray(reward_to_go_batch).astype(\"int32\")\n",
        "        )\n",
        "\n",
        "\n",
        "# Instantiate Memory\n",
        "REINFORCE_memory = EpisodeRewardsToGoBuffer(num_transitions_to_store=512, batch_size=256)"
      ]
    },
    {
      "cell_type": "markdown",
      "metadata": {
        "id": "Idkav_aSYXvz"
      },
      "source": [
        "### Policy neural network\n",
        "Далее мы будем использовать простую нейронную сеть для аппроксимации политики. Наша нейронная сеть политики будет иметь входной слой, который принимает наблюдение в качестве входных данных и пропускает его через два скрытых слоя, а затем выводит одно скалярное значение для каждого из возможных действий. Таким образом, в CartPole выходной слой будет иметь размер `2`.\n",
        "\n",
        "[Haiku](https://github.com/deepmind/dm-haiku) — это библиотека для реализации нейронных сетей в JAX. Ниже мы реализовали простую функцию для создания сети политики для вас.\n"
      ]
    },
    {
      "cell_type": "code",
      "execution_count": null,
      "metadata": {
        "id": "j2XO7VkORjM4"
      },
      "outputs": [],
      "source": [
        "def make_policy_network(num_actions: int, layers=[20, 20]) -> hk.Transformed:\n",
        "  \"\"\"Factory for a simple MLP network for the policy.\"\"\"\n",
        "\n",
        "  def policy_network(obs):\n",
        "    network = hk.Sequential(\n",
        "        [\n",
        "            hk.Flatten(),\n",
        "            hk.nets.MLP(layers + [num_actions])\n",
        "        ]\n",
        "    )\n",
        "    return network(obs)\n",
        "\n",
        "  return hk.without_apply_rng(hk.transform(policy_network))"
      ]
    },
    {
      "cell_type": "markdown",
      "metadata": {
        "id": "1GR2y8FjaG-G"
      },
      "source": [
        "У сетей Haiku есть две важные функции, о которых вам нужно знать. Первая — `network.init(<random_key>, <input>)`, которая возвращает набор случайных начальных параметров. Второй метод — `network.apply(<params>, <input>)`, который передает входные данные через сеть, используя предоставленный набор параметров."
      ]
    },
    {
      "cell_type": "code",
      "execution_count": null,
      "metadata": {
        "id": "fJrn9o-Vatkw",
        "colab": {
          "base_uri": "https://localhost:8080/"
        },
        "outputId": "01ae4158-2374-40ef-c13a-086116a6e12e"
      },
      "outputs": [
        {
          "output_type": "stream",
          "name": "stdout",
          "text": [
            "Initial params: dict_keys(['mlp/~/linear_0', 'mlp/~/linear_1', 'mlp/~/linear_2'])\n",
            "Policy network output: [ 0.91155875 -0.3961737 ]\n"
          ]
        }
      ],
      "source": [
        "# Example\n",
        "POLICY_NETWORK = make_policy_network(num_actions=num_actions, layers=[20,20])\n",
        "random_key = jax.random.PRNGKey(42) # random key\n",
        "dummy_obs = np.ones(obs_shape, \"float32\")\n",
        "\n",
        "# Initialise parameters\n",
        "REINFORCE_params = POLICY_NETWORK.init(random_key, dummy_obs)\n",
        "print(\"Initial params:\", REINFORCE_params.keys())\n",
        "\n",
        "# Pass input through the network\n",
        "output = POLICY_NETWORK.apply(REINFORCE_params, dummy_obs)\n",
        "print(\"Policy network output:\", output)\n"
      ]
    },
    {
      "cell_type": "markdown",
      "metadata": {
        "id": "MlouUBvoeunz"
      },
      "source": [
        "Выходы нашей сети политик — [логиты](https://qr.ae/pv4YTe). Чтобы преобразовать это в распределение вероятностей по действиям, мы передаем логиты в функцию [softmax](https://en.wikipedia.org/wiki/Softmax_function).\n",
        "\n",
        "### УСИЛЕНИЕ выбор функции действия\n",
        "\n",
        "**Упражнение 8:** Завершите функцию ниже, которая берет вектор логитов и случайным образом выбирает действие из категориального распределения, заданного логитами.\n",
        "\n",
        "**Полезные функции:**"
      ]
    },
    {
      "cell_type": "code",
      "execution_count": null,
      "metadata": {
        "id": "m3Z8DxUmeOGJ"
      },
      "outputs": [],
      "source": [
        "def sample_action(random_key, logits):\n",
        "\n",
        "  # YOUR CODE HERE\n",
        "\n",
        "  action = jax.random.categorical(random_key, logits)\n",
        "\n",
        "  # END YOUR code\n",
        "\n",
        "  return action"
      ]
    },
    {
      "cell_type": "code",
      "execution_count": null,
      "metadata": {
        "id": "5opHJMO0D_Ub",
        "colab": {
          "base_uri": "https://localhost:8080/"
        },
        "outputId": "6e7e1675-c028-4e67-f606-be650a50c743"
      },
      "outputs": [
        {
          "output_type": "stream",
          "name": "stdout",
          "text": [
            "Seems correct.\n"
          ]
        }
      ],
      "source": [
        "#@title Проверка упр 8 {display-mode: \"form\"}\n",
        "\n",
        "try:\n",
        "  random_key = jax.random.PRNGKey(42) # random key\n",
        "  action = sample_action(random_key, np.array([1,2], \"float32\"))\n",
        "  if action != 1:\n",
        "    print(\"Your function is incorrect.\")\n",
        "  else:\n",
        "    print(\"Seems correct.\")\n",
        "except Exception as e:\n",
        "    print(\"An Error Occured: {}\".format(e))"
      ]
    },
    {
      "cell_type": "markdown",
      "metadata": {
        "id": "jP5UH87VRjM4"
      },
      "source": [
        "Теперь мы можем реализовать функцию `REINFORCE_choose_action`. Мы передадим наблюдение через сеть политики для вычисления логитов, а затем передадим логиты в функцию `sample_action` для выбора и действия."
      ]
    },
    {
      "cell_type": "code",
      "execution_count": null,
      "metadata": {
        "id": "UJTzrDAZ0Ul5"
      },
      "outputs": [],
      "source": [
        "def REINFORCE_choose_action(key, params, actor_state, obs, evaluation=False):\n",
        "  obs = jnp.expand_dims(obs, axis=0) # add dummy batch dim before passing through network\n",
        "\n",
        "  # Pass obs through policy network to compute logits\n",
        "  logits = POLICY_NETWORK.apply(params, obs)\n",
        "  logits = logits[0] # remove batch dim\n",
        "\n",
        "  # Randomly sample action\n",
        "  sampled_action = sample_action(key, logits)\n",
        "\n",
        "  return sampled_action, actor_state"
      ]
    },
    {
      "cell_type": "markdown",
      "metadata": {
        "id": "NI26SLAb7iRo"
      },
      "source": [
        "Теперь, когда мы реализовали функцию `REINFORCE_choose_action`, нам осталось только создать функцию `REINFORCE_learn`. Функция обучения должна использовать функцию `weighted_log_prob`, которую мы создали ранее, чтобы вычислить потери градиента политики и применить обновления градиента к нашей нейронной сети."
      ]
    },
    {
      "cell_type": "markdown",
      "metadata": {
        "id": "36ALCJESQJ8e"
      },
      "source": [
        "### Policy gradient loss\n",
        "\n",
        "\n",
        "**Упражнение 9:** Завершите функцию `policy_gradient_loss` ниже. Функция должна вычислять вероятности действий, пропуская `logits` через функцию softmax. Затем следует извлечь вероятность заданного `action` (используя индексацию массива) и вычислить `weighted_log_prob`, используя функцию, которую мы создали ранее.\n",
        "\n",
        "**Полезные методы:**\n",
        "*   `jax.nn.softmax` ([docs](https://jax.readthedocs.io/en/latest/_autosummary/jax.nn.softmax.html))"
      ]
    },
    {
      "cell_type": "code",
      "execution_count": null,
      "metadata": {
        "id": "9sUKkqx0RjM4"
      },
      "outputs": [],
      "source": [
        "def policy_gradient_loss(action, logits, reward_to_go):\n",
        "\n",
        "  # YOUR CODE\n",
        "\n",
        "  all_action_probs = jax.nn.softmax(logits)\n",
        "\n",
        "  # Get the probability of the taken action using array indexing\n",
        "  action_prob = all_action_probs[action]\n",
        "\n",
        "  # Compute weighted log probability\n",
        "  weighted_log_prob = compute_weighted_log_prob(action_prob, reward_to_go)\n",
        "\n",
        "  # Compute the loss (negative for gradient ascent)\n",
        "  loss = -weighted_log_prob\n",
        "\n",
        "  return loss"
      ]
    },
    {
      "cell_type": "code",
      "execution_count": null,
      "metadata": {
        "id": "7AMJvau1FsM5",
        "colab": {
          "base_uri": "https://localhost:8080/"
        },
        "outputId": "dbc30965-6734-4a2b-c825-bd6430276ecf"
      },
      "outputs": [
        {
          "output_type": "stream",
          "name": "stdout",
          "text": [
            "result =  3.1326165\n",
            "Your implementation looks wrong.\n"
          ]
        }
      ],
      "source": [
        "#@title Проверка упр 9 {display-mode: \"form\"}\n",
        "\n",
        "try:\n",
        "  result = policy_gradient_loss(1, np.array([1,2], \"float32\"), 10)\n",
        "  print(\"result = \", result)\n",
        "  if result != 3.1326175:\n",
        "    print(\"Your implementation looks wrong.\")\n",
        "  else:\n",
        "    print(\"Looks correct.\")\n",
        "except Exception as e:\n",
        "  print(\"An Error Occured: {}\".format(e))"
      ]
    },
    {
      "cell_type": "markdown",
      "metadata": {
        "id": "Gzuqx1jJrwVx"
      },
      "source": [
        "Когда мы делаем шаг обновления градиента политики, мы захотим сделать это, используя пакет опыта, а не просто один опыт, как выше. Мы можем использовать функцию JAX [vmap](https://jax.readthedocs.io/en/latest/_autosummary/jax.vmap.html#jax.vmap), чтобы легко заставить нашу функцию `policy_gradient_loss` работать с пакетом опыта."
      ]
    },
    {
      "cell_type": "code",
      "execution_count": null,
      "metadata": {
        "id": "3yq4naLURjM4",
        "colab": {
          "base_uri": "https://localhost:8080/"
        },
        "outputId": "1b71c4c0-b537-471d-e161-1c8ed13b6e74"
      },
      "outputs": [
        {
          "output_type": "stream",
          "name": "stdout",
          "text": [
            "Policy gradient loss on batch: 1.6967314\n"
          ]
        }
      ],
      "source": [
        "def batched_policy_gradient_loss(params, obs_batch, action_batch, reward_to_go_batch):\n",
        "    # Get logits by passing observation through network\n",
        "    logits_batch = POLICY_NETWORK.apply(params, obs_batch)\n",
        "\n",
        "    policy_gradient_loss_batch = jax.vmap(policy_gradient_loss)(\n",
        "        action_batch,\n",
        "        logits_batch,\n",
        "        reward_to_go_batch) # add batch\n",
        "\n",
        "    # Compute mean loss over batch\n",
        "    mean_policy_gradient_loss = jnp.mean(policy_gradient_loss_batch)\n",
        "\n",
        "    return mean_policy_gradient_loss\n",
        "\n",
        "# TEST\n",
        "obs_batch = np.ones((3, *obs_shape), \"float32\")\n",
        "actions_batch = np.array([1,0,0])\n",
        "rew2go_batch = np.array([2.3, 4.3, 2.1])\n",
        "\n",
        "loss = batched_policy_gradient_loss(REINFORCE_params, obs_batch, actions_batch, rew2go_batch)\n",
        "\n",
        "print(\"Policy gradient loss on batch:\", loss)"
      ]
    },
    {
      "cell_type": "markdown",
      "metadata": {
        "id": "VDhTH3culwqo"
      },
      "source": [
        "### Оптимизатор сети\n",
        "\n",
        "Чтобы применить обновления градиента политики к нашей нейронной сети, мы будем использовать библиотеку JAX под названием [Optax](https://github.com/deepmind/optax). Optax имеет реализацию [оптимизатора Adam](https://www.geeksforgeeks.org/intuition-of-adam-optimizer/), которую мы можем использовать."
      ]
    },
    {
      "cell_type": "code",
      "execution_count": null,
      "metadata": {
        "id": "pxXINlMHP5Ic"
      },
      "outputs": [],
      "source": [
        "REINFORCE_OPTIMIZER = optax.adam(1e-3)\n",
        "\n",
        "# Initialise the optimiser\n",
        "REINFORCE_optim_state = REINFORCE_OPTIMIZER.init(REINFORCE_params)"
      ]
    },
    {
      "cell_type": "markdown",
      "metadata": {
        "id": "ViENrHOALbCw"
      },
      "source": [
        "Теперь у нас есть все необходимое для создания функции `REINFORCE_learn`. Мы сохраним состояние оптимизатора в `learn_state`. Мы вычислим градиент потерь градиента политики с помощью  `jax.grad` ([docs](https://jax.readthedocs.io/en/latest/_autosummary/jax.grad.html))."
      ]
    },
    {
      "cell_type": "code",
      "execution_count": null,
      "metadata": {
        "id": "CQr2Uz5ORjM5"
      },
      "outputs": [],
      "source": [
        "# A NamedTuple to store the state of the optimiser\n",
        "REINFORCELearnState = collections.namedtuple(\"LearnerState\", [\"optim_state\"])\n",
        "\n",
        "\n",
        "def REINFORCE_learn(key, params, learner_state, memory):\n",
        "\n",
        "  # Get the policy gradient by using `jax.grad()` on `batched_policy_gradient_loss`\n",
        "  grad_loss = jax.grad(batched_policy_gradient_loss)(params, memory.obs, memory.action, memory.reward_to_go)\n",
        "\n",
        "  # Get param updates using gradient and optimizer\n",
        "  updates, new_optim_state = REINFORCE_OPTIMIZER.update(grad_loss, learner_state.optim_state)\n",
        "\n",
        "  # Apply updates to params\n",
        "  params = optax.apply_updates(params, updates)\n",
        "\n",
        "  return params, REINFORCELearnState(new_optim_state) # update learner state"
      ]
    },
    {
      "cell_type": "markdown",
      "metadata": {
        "id": "5an3U2NhRKgG"
      },
      "source": [
        "### Цикл обучения REINFORCE\n",
        "Теперь мы можем обучить нашего агента REINFORCE, собрав все воедино с помощью цикла обучения."
      ]
    },
    {
      "cell_type": "code",
      "execution_count": null,
      "metadata": {
        "id": "vioIcVGsRjM5",
        "colab": {
          "base_uri": "https://localhost:8080/",
          "height": 680
        },
        "outputId": "696bbc63-e083-428d-a647-25efe257a5d4"
      },
      "outputs": [
        {
          "output_type": "stream",
          "name": "stdout",
          "text": [
            "Starting training. This may take up to 10 minutes to complete.\n",
            "Episode: 0\tEpisode Return: 12.0\tAverage Episode Return: 12.0\tEvaluator Episode Return: 20.125\n",
            "Episode: 100\tEpisode Return: 46.0\tAverage Episode Return: 46.05\tEvaluator Episode Return: 77.625\n",
            "Episode: 200\tEpisode Return: 111.0\tAverage Episode Return: 146.05\tEvaluator Episode Return: 135.375\n",
            "Episode: 300\tEpisode Return: 200.0\tAverage Episode Return: 179.1\tEvaluator Episode Return: 196.625\n",
            "Episode: 400\tEpisode Return: 200.0\tAverage Episode Return: 195.65\tEvaluator Episode Return: 200.0\n",
            "Episode: 500\tEpisode Return: 200.0\tAverage Episode Return: 180.5\tEvaluator Episode Return: 182.75\n",
            "Episode: 600\tEpisode Return: 200.0\tAverage Episode Return: 200.0\tEvaluator Episode Return: 200.0\n",
            "Episode: 700\tEpisode Return: 200.0\tAverage Episode Return: 198.7\tEvaluator Episode Return: 200.0\n",
            "Episode: 800\tEpisode Return: 200.0\tAverage Episode Return: 200.0\tEvaluator Episode Return: 200.0\n",
            "Episode: 900\tEpisode Return: 200.0\tAverage Episode Return: 191.8\tEvaluator Episode Return: 189.75\n",
            "Episode: 1000\tEpisode Return: 200.0\tAverage Episode Return: 191.35\tEvaluator Episode Return: 200.0\n"
          ]
        },
        {
          "output_type": "display_data",
          "data": {
            "text/plain": [
              "<Figure size 640x480 with 1 Axes>"
            ],
            "image/png": "[encoded data removed]"
          },
          "metadata": {}
        }
      ],
      "source": [
        "# JIT the choose_action and learn functions for more speed\n",
        "REINFORCE_learn_jit = jax.jit(REINFORCE_learn)\n",
        "REINFORCE_choose_action_jit = jax.jit(REINFORCE_choose_action)\n",
        "\n",
        "# Initial learn state\n",
        "REINFORCE_learn_state = REINFORCELearnState(REINFORCE_optim_state)\n",
        "\n",
        "# Run training loop\n",
        "print(\"Starting training. This may take up to 10 minutes to complete.\")\n",
        "episode_returns, evaluator_returns = run_training_loop(\n",
        "                                        env_name,\n",
        "                                        REINFORCE_params,\n",
        "                                        REINFORCE_choose_action_jit,\n",
        "                                        None, # action state not used\n",
        "                                        REINFORCE_learn_jit,\n",
        "                                        REINFORCE_learn_state,\n",
        "                                        REINFORCE_memory,\n",
        "                                        num_episodes=1001,\n",
        "                                        learn_steps_per_episode=2,\n",
        "                                        video_subdir=\"reinforce\"\n",
        "                                      )\n",
        "\n",
        "# Plot the episode returns\n",
        "plt.plot(episode_returns)\n",
        "plt.xlabel(\"Episode\")\n",
        "plt.ylabel(\"Episode Return\")\n",
        "plt.title(\"REINFORCE\")\n",
        "plt.show()\n"
      ]
    },
    {
      "cell_type": "code",
      "execution_count": null,
      "metadata": {
        "id": "caKL3ngNr_Yh",
        "colab": {
          "base_uri": "https://localhost:8080/",
          "height": 288
        },
        "outputId": "c4991aee-3374-4164-8ad2-62bd5045d63a"
      },
      "outputs": [
        {
          "output_type": "execute_result",
          "data": {
            "text/plain": [
              "<IPython.core.display.HTML object>"
            ],
            "text/html": [
              "\n",
              "<video width=400 controls>\n",
              "      <source src=\"data:video/mp4;base64,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\" type=\"video/mp4\">\n",
              "</video>\n"
            ]
          },
          "metadata": {},
          "execution_count": 61
        }
      ],
      "source": [
        "#@title Визуализация {display-mode: \"form\"}\n",
        "#@markdown Выберите номер эпизода, менее или равного 1000, и **run this cell**.\n",
        "\n",
        "episode_number = 1000 #@param {type:\"number\"}\n",
        "\n",
        "assert (episode_number % 100) == 0, \"Episode number must be a multiple of 100 since we only record every 100th episode.\"\n",
        "assert episode_number < 1001, \"Episode number must be less than or equal to 1000\"\n",
        "\n",
        "eval_episode_number = int(episode_number / 100 * 8)\n",
        "video_path = f\"./video/reinforce/eval/rl-video-episode-{eval_episode_number}.mp4\"\n",
        "\n",
        "mp4 = open(video_path,'rb').read()\n",
        "data_url = \"data:video/mp4;base64,\" + b64encode(mp4).decode()\n",
        "HTML(\"\"\"\n",
        "<video width=400 controls>\n",
        "      <source src=\"%s\" type=\"video/mp4\">\n",
        "</video>\n",
        "\"\"\" % data_url)"
      ]
    },
    {
      "cell_type": "markdown",
      "metadata": {
        "id": "D_HHzFTOc-Qr"
      },
      "source": [
        "## 4. Q-Learning\n",
        "Другим распространенным подходом к поиску оптимальной политики в среде с использованием RL является Q-обучение."
      ]
    },
    {
      "cell_type": "markdown",
      "metadata": {
        "id": "lF1nOZrUSzhE"
      },
      "source": [
        "### Функция значения состояния-действия\n",
        "В Q-обучении агент изучает функцию, которая аппроксимирует **значение** пар состояние-действие. Под *значением* мы подразумеваем отдачу, которую вы ожидаете получить, если начнете в определенном состоянии $s_t$, выполните определенное действие $a_t$, а затем будете действовать в соответствии с определенной политикой $\\pi$ навсегда. Функция значения состояния-действия политики $\\pi$ задается как\n",
        "\n",
        "$Q_\\pi(s,a)=\\mathrm{E}_{\\tau\\sim\\pi}\\left[R(\\tau) \\mid s_0=s,\\ a_t=a\\right]$.\n",
        "\n",
        "Мы говорим, что функция значения $Q_\\pi(s,a)$ является **оптимальной** функцией значения, если политика $\\pi$ является оптимальной политикой. Обозначим функцию оптимального значения следующим образом:\n",
        "\n",
        "$Q_\\ast(s,a)=\\max \\limits_\\pi \\ \\mathrm{E}_{\\tau\\sim\\pi}\\left[R(\\tau) \\mid s_0=s,\\ a_0=a\\right]$\n",
        "\n",
        "Существует важная связь между оптимальным действием $a_\\ast$ в состоянии $s$ и оптимальной функцией значения состояния-действия $Q_\\ast$. А именно, оптимальное действие $a_\\ast$ в состоянии $s$ равно действию, которое максимизирует оптимальную функцию значения состояния-действия. Эта связь естественным образом индуцирует оптимальную политику:\n",
        "\n",
        "$\\pi_\\ast(s)=\\arg \\max \\limits_a\\ Q_\\ast(s, a)$"
      ]
    },
    {
      "cell_type": "markdown",
      "metadata": {
        "id": "H2x2tqvZSihz"
      },
      "source": [
        "### Greedy action selection (Жадный выбор действия)\n",
        "\n",
        "**Упражнение 10:** Давайте реализуем функцию, которая, учитывая вектор Q-значений, возвращает действие с наибольшим Q-значением (т. е. жадное действие).\n",
        "\n",
        "**Useful methods:**\n",
        "*   `jax.numpy.argmax` ([docs](https://jax.readthedocs.io/en/latest/_autosummary/jax.numpy.argmax.html))"
      ]
    },
    {
      "cell_type": "code",
      "execution_count": null,
      "metadata": {
        "id": "Nn9P1YdzTIDU"
      },
      "outputs": [],
      "source": [
        "# Implement a function takes q-values as input and returns the greedy_action\n",
        "def select_greedy_action(q_values):\n",
        "\n",
        "  # YOUR CODE\n",
        "  action = jnp.argmax(q_values)\n",
        "  # END YOUR CODE\n",
        "\n",
        "  return action"
      ]
    },
    {
      "cell_type": "code",
      "execution_count": null,
      "metadata": {
        "id": "ZBzLr_G7QKXR",
        "colab": {
          "base_uri": "https://localhost:8080/"
        },
        "outputId": "3d44846f-141f-4e7c-e8c6-dc66d4f8165b"
      },
      "outputs": [
        {
          "output_type": "stream",
          "name": "stdout",
          "text": [
            "Looks good.\n"
          ]
        }
      ],
      "source": [
        "# @title Проверка упр 10 (run me) {display-mode: \"form\"}\n",
        "\n",
        "try:\n",
        "  q_values = jnp.array([1,1,3,4])\n",
        "  action = select_greedy_action(q_values)\n",
        "\n",
        "  if action != 3:\n",
        "    print(\"Incorrect answer, your greedy action selector looks wrong\")\n",
        "  else:\n",
        "    print(\"Looks good.\")\n",
        "except Exception as e:\n",
        "  print(\"An Error Occured: {}\".format(e))\n"
      ]
    },
    {
      "cell_type": "markdown",
      "metadata": {
        "id": "PFQUlqZ4ZyLp"
      },
      "source": [
        "### Q-Network\n",
        "В отличие от подхода с градиентом политики из предыдущего раздела, в Q-обучении и других методах RL на основе значений нам не нужна параметризация для политики, вместо этого мы параметризуем Q-функцию с помощью нейронной сети $Q_\\theta$. Мы получаем политику из Q-сети, всегда выбирая действие с *наибольшим* значением:\n",
        "\n",
        "$\\hat{\\pi}_\\theta(s)=\\arg \\max \\limits_a\\ Q_{\\theta}(s, a)$\n",
        "\n",
        "Как и ранее, мы будем использовать хайку для создания нейронной сети для аппроксимации этой Q-функции. Сеть будет принимать наблюдение в качестве входных данных, а затем выводить Q-значение для каждого из доступных действий. Таким образом, в случае CartPole выход сети будет иметь размер $2$."
      ]
    },
    {
      "cell_type": "code",
      "execution_count": null,
      "metadata": {
        "id": "9wU1soJYZyLp"
      },
      "outputs": [],
      "source": [
        "def build_network(num_actions: int, layers=[20, 20]) -> hk.Transformed:\n",
        "  \"\"\"Factory for a simple MLP network for approximating Q-values.\"\"\"\n",
        "\n",
        "  def q_network(obs):\n",
        "    network = hk.Sequential(\n",
        "        [hk.Flatten(),\n",
        "         hk.nets.MLP(layers + [num_actions])])\n",
        "    return network(obs)\n",
        "\n",
        "  return hk.without_apply_rng(hk.transform(q_network))"
      ]
    },
    {
      "cell_type": "markdown",
      "metadata": {
        "id": "sUwG-4qTS1zx"
      },
      "source": [
        "Давайте инициализируем нашу Q-сеть и получим начальные параметры."
      ]
    },
    {
      "cell_type": "code",
      "execution_count": null,
      "metadata": {
        "id": "1uvq5n2cS9lu",
        "colab": {
          "base_uri": "https://localhost:8080/"
        },
        "outputId": "258128ac-58ef-415f-dc3d-7bc50e66d52b"
      },
      "outputs": [
        {
          "output_type": "stream",
          "name": "stdout",
          "text": [
            "Q-Learning params: dict_keys(['mlp/~/linear_0', 'mlp/~/linear_1', 'mlp/~/linear_2'])\n"
          ]
        }
      ],
      "source": [
        "# Initialise Q-network\n",
        "Q_NETWORK = build_network(num_actions=num_actions, layers=[20, 20]) # two actions\n",
        "\n",
        "dummy_obs = jnp.zeros((1,*obs_shape), jnp.float32) # a dummy observation like the one in CartPole\n",
        "\n",
        "random_key = jax.random.PRNGKey(42) # random key\n",
        "Q_NETWORK_PARAMS = Q_NETWORK.init(random_key, dummy_obs) # Get initial params\n",
        "\n",
        "print(\"Q-Learning params:\", Q_NETWORK_PARAMS.keys())"
      ]
    },
    {
      "cell_type": "markdown",
      "metadata": {
        "id": "iqCUeZfhEfyP"
      },
      "source": [
        "Прежде чем мы реализуем функцию потерь, необходимую для обучения нашей Q-сети, давайте сначала обсудим интуицию, стоящую за ней."
      ]
    },
    {
      "cell_type": "markdown",
      "metadata": {
        "id": "vbLig3uSZyLp"
      },
      "source": [
        "### The Bellman Equations (Уравнения Беллмана)\n",
        "Функция значения может быть записана рекурсивно как:\n",
        "\n",
        "$Q_{\\pi}(s, a) =\\underset{s^{\\prime} \\sim P}{\\mathrm{E}}\\left[r(s, a)+ \\underset{a^{\\prime} \\sim \\pi}{\\mathrm{E}}\\left[Q_{\\pi}\\left(s^{\\prime}, a^{\\prime}\\right)\\right]\\right]$,\n",
        "\n",
        "где $s' \\sim P$ — это сокращение для обозначения того, что следующее состояние $s'$ выбирается из функции перехода среды $P(s'\\mid s,a)$. Интуитивно это уравнение говорит, что ценность действия $a$, которое вы предприняли в состоянии $s$, равна вознаграждению $r$, которое вы ожидаете получить, плюс ценность, которую вы ожидаете получить в следующем состоянии $s`$, в котором вы окажетесь, при условии, что вы выберете свое следующее действие $a`$ с политикой $\\pi$. Уравнение Беллмана для оптимальной функции ценности выглядит так:\n",
        "\n",
        "$Q_{*}(s, a) =\\underset{s^{\\prime} \\sim P}{\\mathrm{E}}\\left[r(s, a)+\\ \\underset{a^{\\prime}}{\\max}\\ Q_{*}(s^{\\prime}, a^{\\prime})\\right]$\n",
        "\n",
        "Обратите внимание, что вместо выбора вашего следующего действия $a`$ с политикой $\\pi$ мы выбираем действие с наибольшим значением Q.\n",
        "\n",
        "Более подробное обсуждение уравнений Беллмана можно найти на сайте [OpenAI Spinning Up](https://spinningup.openai.com/en/latest/spinningup/rl_intro.html)."
      ]
    },
    {
      "cell_type": "markdown",
      "metadata": {
        "id": "DsOJi5G8ZyLp"
      },
      "source": [
        "### The Bellman Backup (Резервное копирование Беллмана)\n",
        "\n",
        "Чтобы научиться аппроксимировать оптимальную функцию Q-значения, мы можем использовать правую часть уравнения Беллмана в качестве правила обновления. Другими словами, предположим, что у нас есть Q-сеть $Q_\\theta$, аппроксимированная с использованием параметров $\\theta$, тогда мы можем итеративно обновлять параметры таким образом, что\n",
        "\n",
        "$Q_\\theta(s,a)\\leftarrow r(s, a) + \\underset{a'}{\\max}\\ Q_\\theta(s', a')$.\n",
        "\n",
        "Интуитивно это означает, что аппроксимация Q-значения действия $a$ в состоянии $s$ должна быть обновлена ​​таким образом, чтобы она была ближе к равной вознаграждению, полученному от среды $r(s, a)$, плюс значение наилучшего возможного действия в следующем состоянии $s'$. Мы можем выполнить эту оптимизацию, минимизируя разницу между левой и правой частью относительно параметров $\\theta$, используя градиентный спуск. Мы можем измерить разницу между двумя значениями, используя [квадратичную ошибку](https://en.wikipedia.org/wiki/Mean_squared_error#Loss_function).\n",
        "\n",
        "**Упражнение 11:** Реализуйте функцию квадратичной ошибки.\n",
        "\n",
        "**Полезные функции**\n",
        "* `jax.numpy.square` ([docs](https://jax.readthedocs.io/en/latest/_autosummary/jax.numpy.square.html))"
      ]
    },
    {
      "cell_type": "code",
      "execution_count": null,
      "metadata": {
        "id": "PTto__ohZyLp"
      },
      "outputs": [],
      "source": [
        "def compute_squared_error(pred, target):\n",
        "  # YOUR CODE\n",
        "  squared_error = jnp.square(pred - target)\n",
        "  # END YOUR CODE\n",
        "\n",
        "  return squared_error"
      ]
    },
    {
      "cell_type": "code",
      "execution_count": null,
      "metadata": {
        "id": "wGhX8XTFVPVU",
        "colab": {
          "base_uri": "https://localhost:8080/"
        },
        "outputId": "733bf58c-702d-4ffe-d288-b6ea997fd4cb"
      },
      "outputs": [
        {
          "output_type": "stream",
          "name": "stdout",
          "text": [
            "Looks good.\n"
          ]
        }
      ],
      "source": [
        "#@title Проверка упр 11 {display-mode: \"form\"}\n",
        "\n",
        "try:\n",
        "  result = compute_squared_error(1, 4)\n",
        "\n",
        "  if result != 9:\n",
        "    print(\"Your implementation looks wrong.\")\n",
        "  else:\n",
        "    print(\"Looks good.\")\n",
        "except Exception as e:\n",
        "  print(\"An Error Occured: {}\".format(e))"
      ]
    },
    {
      "cell_type": "markdown",
      "metadata": {
        "id": "ycpZVkgdZyLp"
      },
      "source": [
        "**Упражнение 12:** Реализуйте функцию, которая вычисляет **цель Беллмана** (правая часть уравнения Беллмана). Если эпизод находится на последнем временном шаге (т. е. done==1.0), то цель Беллмана должна быть равна награде, без дополнительного значения в конце.\n",
        "\n",
        "**Полезные функции**\n",
        "* `jax.numpy.max` ([docs](https://jax.readthedocs.io/en/latest/_autosummary/jax.numpy.max.html))"
      ]
    },
    {
      "cell_type": "code",
      "execution_count": null,
      "metadata": {
        "id": "961_OllWZyLp"
      },
      "outputs": [],
      "source": [
        "# Bellman target\n",
        "def compute_bellman_target(reward, done, next_q_values, gamma=1.0):\n",
        "  \"\"\"A function to compute the bellman target.\n",
        "\n",
        "  Args:\n",
        "      reward: a scalar reward.\n",
        "      done: a scalar of value either 1.0 or 0.0, indicating if the transition is a terminal one.\n",
        "      next_q_values: a vector of q_values for the next state. One for each action.\n",
        "  Returns:\n",
        "      A scalar equal to the bellman target.\n",
        "\n",
        "  \"\"\"\n",
        "  # YOUR CODE\n",
        "  bellman_target = reward + (1.0 - done) * gamma * jnp.max(next_q_values)\n",
        "  # END YOUR CODE\n",
        "\n",
        "  return bellman_target"
      ]
    },
    {
      "cell_type": "code",
      "execution_count": null,
      "metadata": {
        "id": "E5RAhegOWAkC",
        "colab": {
          "base_uri": "https://localhost:8080/"
        },
        "outputId": "66453d57-43b9-46a9-910e-957f2cac3609"
      },
      "outputs": [
        {
          "output_type": "stream",
          "name": "stdout",
          "text": [
            "Looks good.\n"
          ]
        }
      ],
      "source": [
        "#@title Проверка упр 12 {display-mode: \"form\"}\n",
        "\n",
        "try:\n",
        "  # not done\n",
        "  result1 = compute_bellman_target(1, 0.0, np.array([3,2], \"float32\"))\n",
        "\n",
        "  # done\n",
        "  result2 = compute_bellman_target(1, 1.0, np.array([3,2], \"float32\"))\n",
        "\n",
        "  if result1 != 4 or result2 != 1:\n",
        "    print(\"Your implementation looks wrong.\")\n",
        "  else:\n",
        "    print(\"Looks good.\")\n",
        "except Exception as e:\n",
        "  print(\"An Error Occured: {}\".format(e))"
      ]
    },
    {
      "cell_type": "markdown",
      "metadata": {
        "id": "8sIjrHSJZyLq"
      },
      "source": [
        "Теперь мы можем объединить эти две функции, чтобы вычислить потерю для Q-обучения. Потери Q-обучения равны квадрату разницы между прогнозируемым значением Q действия и его соответствующей целью Беллмана.\n",
        "\n",
        "**Упражнение 13:** Реализуйте функцию потери Q-обучения."
      ]
    },
    {
      "cell_type": "code",
      "execution_count": null,
      "metadata": {
        "id": "LJY_kpFcZyLq"
      },
      "outputs": [],
      "source": [
        "def q_learning_loss(q_values, action, reward, done, next_q_values, gamma=1.0):\n",
        "    \"\"\"Implementation of the Q-learning loss.T\n",
        "\n",
        "    Args:\n",
        "        q_values: a vector of Q-values, one for each action.\n",
        "        action: an integer, giving the action that was chosen. q_values[action] is the value of the chose action.\n",
        "        done: is a scalar that indicates if this is a terminal transition.\n",
        "        next_q_values: a vector of Q-values in the next state.\n",
        "    Returns:\n",
        "        The squared difference between the q_value of the chosen action and the bellman target.\n",
        "    \"\"\"\n",
        "    chosen_action_q_value = q_values[action]\n",
        "\n",
        "    bellman_target = compute_bellman_target(reward, done, next_q_values, gamma)\n",
        "\n",
        "    squared_error = jnp.square(chosen_action_q_value - bellman_target)\n",
        "\n",
        "    return squared_error"
      ]
    },
    {
      "cell_type": "code",
      "execution_count": null,
      "metadata": {
        "id": "1aZRn1qaWx2M",
        "colab": {
          "base_uri": "https://localhost:8080/"
        },
        "outputId": "7555dc2f-1917-4ad5-853b-38218623e2fc"
      },
      "outputs": [
        {
          "output_type": "stream",
          "name": "stdout",
          "text": [
            "Looks good.\n"
          ]
        }
      ],
      "source": [
        "#@title Проверка упр 13 {display-mode: \"form\"}\n",
        "\n",
        "try:\n",
        "  result = q_learning_loss(np.array([3,2], \"float32\"), 1, 2, 0.0, np.array([3,2], \"float32\"))\n",
        "\n",
        "  if result != 9.0:\n",
        "    print(\"Your implementation looks wrong.\")\n",
        "  else:\n",
        "    print(\"Looks good.\")\n",
        "except Exception as e:\n",
        "  print(\"An Error Occured: {}\".format(e))"
      ]
    },
    {
      "cell_type": "markdown",
      "metadata": {
        "id": "b4YnSUfJZyLq"
      },
      "source": [
        "### Target Q-network (Целевая Q-сеть)\n",
        "Обратите внимание: когда мы вычисляем цель Беллмана, мы используем нашу Q-сеть $Q_\\theta$ для вычисления значения для следующего состояния $s_t$. По сути, мы используем наше последнее приближение Q-функции для вычисления цели нашего следующего приближения. Использование приближения для вычисления цели для вашего следующего приближения называется самозагрузкой. К сожалению, если мы наивно делаем такую ​​самозагрузку, это может сделать обучение нейронной сети очень нестабильным. Чтобы смягчить это, мы можем вместо этого использовать другой набор параметров $\\hat{\\theta}$ для вычисления значений в состоянии $s_{t+1}$. Мы будем сохранять параметры $\\hat{\\theta}$ фиксированными и только периодически обновлять их, чтобы они были равны последним онлайн-параметрам $\\theta$ каждые пару шагов обучения *(скажем, 100)*. Это позволяет сохранять фиксированные цели Беллмана для пары шагов обучения, чтобы помочь снизить нестабильность из-за самозагрузки.\n",
        "\n",
        "Нам нужно будет отслеживать последние (онлайн) параметры, а также параметры целевых сетей. Давайте создадим `NamedTuple` для хранения этих двух значений. Нам также нужно будет отслеживать количество шагов обучения, которые мы сделали, чтобы знать, когда обновлять целевую сеть. Давайте сохраним `count` шагов обучения в `learn_state`."
      ]
    },
    {
      "cell_type": "code",
      "execution_count": null,
      "metadata": {
        "id": "DvZqUKmq6L7k"
      },
      "outputs": [],
      "source": [
        "# Store online and target parameters\n",
        "QLearnParams = collections.namedtuple(\"Params\", [\"online\", \"target\"])\n",
        "\n",
        "# Q-learn-state\n",
        "QLearnState = collections.namedtuple(\"LearnerState\", [\"count\", \"optim_state\"])"
      ]
    },
    {
      "cell_type": "markdown",
      "metadata": {
        "id": "CJWH2_kNZsau"
      },
      "source": [
        "Мы снова будем использовать Optax для оптимизации нашей нейронной сети в JAX. Мы сохраняем состояние оптимизатора в `learn_state` выше. Давайте теперь создадим экземпляр оптимизатора и добавим начальные параметры Q-сети в объект `QLearnParams`."
      ]
    },
    {
      "cell_type": "code",
      "execution_count": null,
      "metadata": {
        "id": "HwqKTN6BaAXE"
      },
      "outputs": [],
      "source": [
        "# Initialise Q-network optimizer\n",
        "Q_LEARN_OPTIMIZER = optax.adam(3e-4) # learning rate\n",
        "\n",
        "Q_LEARN_OPTIM_STATE = Q_LEARN_OPTIMIZER.init(Q_NETWORK_PARAMS) # initial optim state\n",
        "\n",
        "# Create Learn State\n",
        "Q_LEARNING_LEARN_STATE = QLearnState(0, Q_LEARN_OPTIM_STATE) # count set to zero initially\n",
        "\n",
        "# Add initial Q-network weights to QLearnParams object\n",
        "Q_LEARNING_PARAMS = QLearnParams(online=Q_NETWORK_PARAMS, target=Q_NETWORK_PARAMS) # target equal to online"
      ]
    },
    {
      "cell_type": "markdown",
      "metadata": {
        "id": "xj89M8LgZlFe"
      },
      "source": [
        "Теперь мы можем реализовать простую функцию, которая обновляет параметры целевых сетей, чтобы они соответствовали последним онлайн-параметрам каждые 100 шагов обучения."
      ]
    },
    {
      "cell_type": "code",
      "execution_count": null,
      "metadata": {
        "id": "SKrg_3rO6cCL"
      },
      "outputs": [],
      "source": [
        "def update_target_params(learn_state, online_weights, target_weights):\n",
        "  \"\"\"A function to update target params every 100 training steps\"\"\"\n",
        "\n",
        "  target = jax.lax.cond(\n",
        "      jax.numpy.mod(learn_state.count, 100) == 0,\n",
        "      lambda x, y: x,\n",
        "      lambda x, y: y,\n",
        "      online_weights,\n",
        "      target_weights\n",
        "  )\n",
        "\n",
        "  params = QLearnParams(online_weights, target)\n",
        "\n",
        "  return params"
      ]
    },
    {
      "cell_type": "markdown",
      "metadata": {
        "id": "KoiaYSo9ZyLq"
      },
      "source": [
        "### Q-learning loss (Функция потери Q-обучения)\n",
        "Теперь у нас есть все необходимое для реализации функции `q_learn`, которая принимает некоторую партию переходов и выполняет шаг Q-обучения для обновления параметров сети. Но сначала мы используем `jax.vmap` для изменения функции `q_learning_loss` так, чтобы она принимала партии переходов. Кроме того, мы вычислим Q-значения, передавая наблюдения через `Q_NETWORK`, и целевые Q-значения, используя целевые параметры `Q_NETWORK`."
      ]
    },
    {
      "cell_type": "code",
      "execution_count": null,
      "metadata": {
        "id": "hnrsGppWZyLq"
      },
      "outputs": [],
      "source": [
        "def batched_q_learning_loss(online_params, target_params, obs, actions, rewards, next_obs, dones):\n",
        "    q_values = Q_NETWORK.apply(online_params, obs) # use the online parameters\n",
        "    next_q_values = Q_NETWORK.apply(target_params, next_obs) # use the target parameters\n",
        "    squared_error = jax.vmap(q_learning_loss)(q_values, actions, rewards, dones, next_q_values) # vmap q_learning_loss\n",
        "    mean_squared_error = jnp.mean(squared_error) # mean squared error over batch\n",
        "    return mean_squared_error"
      ]
    },
    {
      "cell_type": "markdown",
      "metadata": {
        "id": "CU8vo9ZebnEa"
      },
      "source": [
        "Теперь мы можем создать функцию `q_learn`, которая вычисляет градиент `batched_q_learning_loss`, а затем использует оптимизатор Optax для обновления весов сети, а затем, наконец (возможно), обновляет целевые параметры."
      ]
    },
    {
      "cell_type": "code",
      "execution_count": null,
      "metadata": {
        "id": "6BYoX2W_ZyLr"
      },
      "outputs": [],
      "source": [
        "def q_learn(rng, params, learner_state, memory):\n",
        "  # Compute gradients\n",
        "  grad_loss = jax.grad(batched_q_learning_loss)(params.online, params.target, memory.obs,\n",
        "                                          memory.action, memory.reward,\n",
        "                                          memory.next_obs, memory.done,\n",
        "                                          ) # jax.grad\n",
        "\n",
        "  # Get updates\n",
        "  updates, opt_state = Q_LEARN_OPTIMIZER.update(grad_loss, learner_state.optim_state)\n",
        "\n",
        "  # Apply them\n",
        "  new_weights = optax.apply_updates(params.online, updates)\n",
        "\n",
        "  # Maybe update target network\n",
        "  params = update_target_params(learner_state, new_weights, params.target)\n",
        "\n",
        "  # Increment learner step counter\n",
        "  learner_state = QLearnState(learner_state.count + 1, opt_state)\n",
        "\n",
        "  return params, learner_state"
      ]
    },
    {
      "cell_type": "markdown",
      "metadata": {
        "id": "VpZsKHssZyLq"
      },
      "source": [
        "### Replay Buffer (Буфер воспроизведения)\n",
        "Для Q-обучения нам понадобится память агента, которая хранит целые переходы: `obs`, `action`, `reward`, `next_obs`, `done`. Когда мы извлекаем переходы из памяти, они должны выбираться случайным образом из всех переходов, собранных до сих пор. В RL мы часто называем такой модуль **буфером воспроизведения**.\n",
        "\n",
        "Одним из преимуществ использования такого буфера воспроизведения является то, что опыт можно повторно использовать несколько раз для обучения, в отличие от алгоритма градиента политики REINFORCE, где мы отбрасывали воспоминания после их использования для обучения."
      ]
    },
    {
      "cell_type": "code",
      "execution_count": null,
      "metadata": {
        "id": "8tv5dUH6ZyLr"
      },
      "outputs": [],
      "source": [
        "class TransitionMemory(object):\n",
        "  \"\"\"A simple Python replay buffer.\"\"\"\n",
        "\n",
        "  def __init__(self, max_size=10_000, batch_size=256):\n",
        "    self.batch_size = batch_size\n",
        "    self.buffer = collections.deque(maxlen=max_size)\n",
        "\n",
        "  def push(self, transition):\n",
        "\n",
        "    # add transition to the replay buffer\n",
        "    self.buffer.append(\n",
        "        (transition.obs, transition.action, transition.reward,\n",
        "          transition.next_obs, transition.done)\n",
        "    )\n",
        "\n",
        "\n",
        "  def is_ready(self):\n",
        "    return self.batch_size <= len(self.buffer)\n",
        "\n",
        "  def sample(self):\n",
        "    # Randomly sample a batch of transitions from the buffer\n",
        "    random_replay_sample = random.sample(self.buffer, self.batch_size)\n",
        "\n",
        "    # Batch the transitions together\n",
        "    obs_batch, action_batch, reward_batch, next_obs_batch, done_batch = zip(*random_replay_sample)\n",
        "\n",
        "    return Transition(\n",
        "        np.stack(obs_batch).astype(\"float32\"),\n",
        "        np.asarray(action_batch).astype(\"int32\"),\n",
        "        np.asarray(reward_batch).astype(\"float32\"),\n",
        "        np.stack(next_obs_batch).astype(\"float32\"),\n",
        "        np.asarray(done_batch).astype(\"float32\")\n",
        "    )\n",
        "\n",
        "# Instantiate the memory\n",
        "Q_LEARNING_MEMORY = TransitionMemory(max_size=50_000, batch_size=256)"
      ]
    },
    {
      "cell_type": "markdown",
      "metadata": {
        "id": "XbHk03VVUHAV"
      },
      "source": [
        "### Случайное исследование\n",
        "У нас почти есть все, что нужно для функционирующего агента Q-обучения. Но одна проблема заключается в том, что если мы всегда выбираем действие с наивысшим значением Q, то политика агента будет полностью [детерминированной](https://www.quora.com/What-is-the-intuitive-difference-between-a-stochastic-model-and-a-deterministic-model). Это означает, что агент всегда будет выбирать одну и ту же стратегию. Это может представлять проблему, поскольку в начале обучения Q-сеть будет очень неточной (т. е. плохой аппроксимацией истинной Q-функции). Таким образом, агент будет последовательно выбирать неоптимальные действия. Более того, агент никогда не отклонится от своей неоптимальной стратегии и никогда не обнаружит новые, потенциально более полезные действия. В результате Q-сеть остается неточной. В идеале агент должен опробовать много разных стратегий, чтобы он мог наблюдать результаты (вознаграждения) своих действий в разных состояниях и таким образом улучшить приближение Q-функции.\n",
        "\n",
        "Один простой способ гарантировать, что агент опробует много разных действий, — позволить ему периодически выбирать некоторые случайные действия вместо жадного (лучшего) действия все время.\n",
        "\n",
        "**Упражнение 14:** Реализуйте функцию, которая, учитывая количество возможных (дискретных) действий, возвращает случайное действие.\n",
        "\n",
        "**Полезные методы:**\n",
        "\n",
        "*  `jax.random.randint` ([docs](https://jax.readthedocs.io/en/latest/_autosummary/jax.random.randint.html))"
      ]
    },
    {
      "cell_type": "code",
      "execution_count": null,
      "metadata": {
        "id": "uUKkpMLXUtko"
      },
      "outputs": [],
      "source": [
        "def select_random_action(key, num_actions):\n",
        "\n",
        "    # YOUR CODE\n",
        "    action = jax.random.randint(key, shape=(), minval=0, maxval=num_actions)\n",
        "    # END YOUR CODE\n",
        "\n",
        "    return action"
      ]
    },
    {
      "cell_type": "code",
      "execution_count": null,
      "metadata": {
        "id": "NO6va6S2Y40E",
        "colab": {
          "base_uri": "https://localhost:8080/"
        },
        "outputId": "0abe4ea5-7e1c-4516-d1be-61d713f4ae6f"
      },
      "outputs": [
        {
          "output_type": "stream",
          "name": "stdout",
          "text": [
            "Looks good.\n"
          ]
        }
      ],
      "source": [
        "#@title Проверка упр 14 {display-mode: \"form\"}\n",
        "\n",
        "try:\n",
        "  random_key1 = random_key = jax.random.PRNGKey(6) # random key\n",
        "  random_key2 = random_key = jax.random.PRNGKey(1000) # random key\n",
        "  result1 = select_random_action(random_key1, 2)\n",
        "  result2 = select_random_action(random_key2, 2)\n",
        "\n",
        "  if result1 != 1 or result2 != 0:\n",
        "    print(\"Your implementation looks wrong.\")\n",
        "  else:\n",
        "    print(\"Looks good.\")\n",
        "except:\n",
        "  print(\"Your implementation looks wrong.\")"
      ]
    },
    {
      "cell_type": "markdown",
      "metadata": {
        "id": "8-kKDFT6XU6y"
      },
      "source": [
        "### $\\varepsilon$-greedy action selection (эпсилон жадный выбор действия)\n",
        "В начале обучения, когда точность Q-сети низкая, агенту стоит в основном совершать случайные действия, чтобы он мог узнать, насколько хороши/плохи действия. Однако по мере повышения точности Q-сети агент должен начать совершать меньше случайных действий и вместо этого начать выбирать жадные действия относительно Q-значений. Выбор лучших действий с учетом текущей Q-сети называется **эксплуатацией**. В RL мы часто называем отношение случайных и жадных действий **эпсилоном** $\\varepsilon$. Эпсилон обычно представляет собой десятичное значение в интервале $[0,1]$, где, например, $\\varepsilon=0.4$ означает, что агент выбирает случайное действие в 40% случаев, а жадное действие — в 60% случаев. В RL принято линейно уменьшать значение эпсилон с течением времени, так что агент становится все более жадным по мере повышения точности его Q-сети в процессе обучения.\n",
        "\n",
        "**Упражнение 15:** Реализуйте функцию, которая принимает количество временных шагов в качестве входных данных и возвращает текущее значение эпсилон."
      ]
    },
    {
      "cell_type": "code",
      "execution_count": null,
      "metadata": {
        "id": "_qejnbCocurG"
      },
      "outputs": [],
      "source": [
        "EPSILON_DECAY_TIMESTEPS = 3000 # decay epsilon over 3000 timesteps\n",
        "EPSILON_MIN = 0.1 # 10% exploration"
      ]
    },
    {
      "cell_type": "code",
      "execution_count": null,
      "metadata": {
        "id": "5ujSbssCZyLs"
      },
      "outputs": [],
      "source": [
        "def get_epsilon(num_timesteps):\n",
        "  # YOUR CODE\n",
        "  epsilon = 1.0 - (num_timesteps / EPSILON_DECAY_TIMESTEPS) # decay epsilon\n",
        "\n",
        "  epsilon = jax.lax.select(\n",
        "      epsilon < EPSILON_MIN,\n",
        "      EPSILON_MIN, # if less than min then set to min\n",
        "      epsilon # else don't change epsilon\n",
        "  )\n",
        "  # END YOUR CODE\n",
        "\n",
        "  return epsilon"
      ]
    },
    {
      "cell_type": "code",
      "execution_count": null,
      "metadata": {
        "id": "hvu4zA64aUou",
        "colab": {
          "base_uri": "https://localhost:8080/"
        },
        "outputId": "bafd2634-6250-47ce-875c-5f72d0039f1c"
      },
      "outputs": [
        {
          "output_type": "stream",
          "name": "stdout",
          "text": [
            "Your function looks correct.\n"
          ]
        }
      ],
      "source": [
        "#@title Проверка упр 15 {display-mode: \"form\"}\n",
        "def check_get_epsilon(get_epsilon):\n",
        "  try:\n",
        "    result1 = get_epsilon(10)\n",
        "    result2 = get_epsilon(5_010)\n",
        "\n",
        "    if result1 != 0.99666667 or result2 != 0.1:\n",
        "      print(\"Your function looks wrong.\")\n",
        "    else:\n",
        "      print(\"Your function looks correct.\")\n",
        "  except:\n",
        "    print(\"Your function looks wrong.\")\n",
        "\n",
        "check_get_epsilon(get_epsilon)\n"
      ]
    },
    {
      "cell_type": "markdown",
      "metadata": {
        "id": "t56oo58TVQ_s"
      },
      "source": [
        "**Упражнение 16:** Теперь давайте объединим эти функции для выполнения эпсилон-жадного выбора действия."
      ]
    },
    {
      "cell_type": "code",
      "execution_count": null,
      "metadata": {
        "id": "NlQx8K4vKUXj"
      },
      "outputs": [],
      "source": [
        "def select_epsilon_greedy_action(key, q_values, num_timesteps):\n",
        "    num_actions = len(q_values) # number of available actions\n",
        "\n",
        "    # YOUR CODE HERE\n",
        "    epsilon = get_epsilon(num_timesteps)\n",
        "\n",
        "    # Определяем, нужно ли исследовать (выбирать случайное действие)\n",
        "    should_explore = jax.random.uniform(key) < epsilon  # Если случайное число меньше эпсилон, исследуем\n",
        "\n",
        "    # Выбираем действие\n",
        "    action = jax.lax.select(\n",
        "        should_explore,\n",
        "        jax.random.randint(key, (), 0, num_actions),  # Если исследуем, выбираем случайное действие\n",
        "        jnp.argmax(q_values)  # Если жадно, выбираем действие с максимальным значением Q\n",
        "    )\n",
        "\n",
        "    return action"
      ]
    },
    {
      "cell_type": "code",
      "execution_count": null,
      "metadata": {
        "id": "mkVU2a5e7P6b",
        "colab": {
          "base_uri": "https://localhost:8080/"
        },
        "outputId": "363bf295-b3ae-408b-84b6-27e67e8f3114"
      },
      "outputs": [
        {
          "output_type": "stream",
          "name": "stdout",
          "text": [
            "Looks correct!\n"
          ]
        }
      ],
      "source": [
        "#@title Проверка упражнения 16 {display-mode: \"form\"}\n",
        "\n",
        "try:\n",
        "  rng = hk.PRNGSequence(jax.random.PRNGKey(42))\n",
        "  dummy_q_values = jnp.array([0,1], jnp.float32)\n",
        "  num_timesteps = 5010 # very greedy\n",
        "  actions1 = []\n",
        "  for i in range(10):\n",
        "      actions1.append(int(select_epsilon_greedy_action(next(rng), dummy_q_values, num_timesteps)))\n",
        "\n",
        "  num_timesteps = 0 # completly random\n",
        "  actions2 = []\n",
        "  for i in range(10):\n",
        "      actions2.append(int(select_epsilon_greedy_action(next(rng), dummy_q_values, num_timesteps)))\n",
        "\n",
        "  if actions1 != [1, 1, 0, 1, 1, 0, 1, 1, 1, 1] or actions2 != [0, 0, 0, 1, 1, 1, 1, 0, 0, 0]:\n",
        "    print(\"Looks like something might be incorrect!\")\n",
        "  else:\n",
        "    print(\"Looks correct!\")\n",
        "except:\n",
        "  print(\"Looks like something might be incorrect!\")"
      ]
    },
    {
      "cell_type": "markdown",
      "metadata": {
        "id": "y5W23MnobN9x"
      },
      "source": [
        "### Действие выбора Q-learning\n",
        "\n",
        "Теперь у нас есть все необходимое для создания функции `q_learning_select_action`. Мы будем использовать `actor_state` для хранения счетчика, который отслеживает текущее количество временных шагов. Мы можем использовать счетчик для уменьшения нашего значения `epsilon`."
      ]
    },
    {
      "cell_type": "code",
      "execution_count": null,
      "metadata": {
        "id": "81TysLc0RjM6"
      },
      "outputs": [],
      "source": [
        "# Actor state stores the current number of timesteps\n",
        "QActorState = collections.namedtuple(\"ActorState\", [\"count\"])\n",
        "\n",
        "def q_learning_select_action(key, params, actor_state, obs, evaluation=False):\n",
        "    obs = jnp.expand_dims(obs, axis=0) # add dummy batch dim\n",
        "    q_values = Q_NETWORK.apply(params.online, obs)[0] # remove batch dim\n",
        "\n",
        "    action = select_epsilon_greedy_action(key, q_values, actor_state.count)\n",
        "    greedy_action = select_greedy_action(q_values)\n",
        "\n",
        "    action = jax.lax.select(\n",
        "        evaluation,\n",
        "        greedy_action,\n",
        "        action\n",
        "    )\n",
        "\n",
        "    next_actor_state = QActorState(actor_state.count + 1) # increment timestep counter\n",
        "\n",
        "    return action, next_actor_state\n",
        "\n",
        "Q_LEARNING_ACTOR_STATE = QActorState(0) # counter set to zero"
      ]
    },
    {
      "cell_type": "markdown",
      "metadata": {
        "id": "z884-1oNRGEr"
      },
      "source": [
        "### Обучение\n",
        "Теперь мы можем собрать все вместе, используя цикл агент-среда. Но сначала давайте объединим функцию выбора действия и функцию обучения для дополнительной скорости."
      ]
    },
    {
      "cell_type": "code",
      "execution_count": null,
      "metadata": {
        "id": "xbdHDbd1RjM8",
        "colab": {
          "base_uri": "https://localhost:8080/",
          "height": 680
        },
        "outputId": "efd0450a-f43d-4527-f870-a4e4574c650e"
      },
      "outputs": [
        {
          "output_type": "stream",
          "name": "stdout",
          "text": [
            "Starting training. This may take up to 8 minutes to complete.\n",
            "Episode: 0\tEpisode Return: 16.0\tAverage Episode Return: 16.0\tEvaluator Episode Return: 11.875\n",
            "Episode: 100\tEpisode Return: 11.0\tAverage Episode Return: 12.35\tEvaluator Episode Return: 9.375\n",
            "Episode: 200\tEpisode Return: 13.0\tAverage Episode Return: 9.85\tEvaluator Episode Return: 9.125\n",
            "Episode: 300\tEpisode Return: 12.0\tAverage Episode Return: 13.9\tEvaluator Episode Return: 9.5\n",
            "Episode: 400\tEpisode Return: 14.0\tAverage Episode Return: 15.4\tEvaluator Episode Return: 10.875\n",
            "Episode: 500\tEpisode Return: 42.0\tAverage Episode Return: 66.0\tEvaluator Episode Return: 66.0\n",
            "Episode: 600\tEpisode Return: 200.0\tAverage Episode Return: 185.85\tEvaluator Episode Return: 181.25\n",
            "Episode: 700\tEpisode Return: 200.0\tAverage Episode Return: 183.8\tEvaluator Episode Return: 184.125\n",
            "Episode: 800\tEpisode Return: 200.0\tAverage Episode Return: 200.0\tEvaluator Episode Return: 200.0\n",
            "Episode: 900\tEpisode Return: 200.0\tAverage Episode Return: 200.0\tEvaluator Episode Return: 200.0\n",
            "Episode: 1000\tEpisode Return: 103.0\tAverage Episode Return: 78.85\tEvaluator Episode Return: 107.25\n"
          ]
        },
        {
          "output_type": "display_data",
          "data": {
            "text/plain": [
              "<Figure size 640x480 with 1 Axes>"
            ],
            "image/png": "[encoded data removed]"
          },
          "metadata": {}
        }
      ],
      "source": [
        "# Jit functions\n",
        "q_learning_select_action_jit = jax.jit(q_learning_select_action)\n",
        "q_learn_jit = jax.jit(q_learn)\n",
        "\n",
        "# Run environment loop\n",
        "print(\"Starting training. This may take up to 8 minutes to complete.\")\n",
        "episode_returns, evaluator_returns = run_training_loop(\n",
        "                                        env_name,\n",
        "                                        Q_LEARNING_PARAMS,\n",
        "                                        q_learning_select_action_jit,\n",
        "                                        Q_LEARNING_ACTOR_STATE,\n",
        "                                        q_learn_jit,\n",
        "                                        Q_LEARNING_LEARN_STATE,\n",
        "                                        Q_LEARNING_MEMORY,\n",
        "                                        num_episodes=1001,\n",
        "                                        train_every_timestep=True, # do learning after every timestep\n",
        "                                        video_subdir=\"q_learning\"\n",
        "                                    )\n",
        "\n",
        "plt.plot(episode_returns)\n",
        "plt.xlabel(\"Episodes\")\n",
        "plt.ylabel(\"Episode Return\")\n",
        "plt.title(\"Deep Q-Learning\")\n",
        "plt.show()"
      ]
    },
    {
      "cell_type": "markdown",
      "metadata": {
        "id": "2k0-41wbpFDE"
      },
      "source": [
        "На этом этапе, как мы надеемся, приближенная Q-функция сошлась к приемлемой политике балансировки шеста в задаче CartPole."
      ]
    },
    {
      "cell_type": "code",
      "execution_count": null,
      "metadata": {
        "id": "t4v0ZbB4FQUs",
        "colab": {
          "base_uri": "https://localhost:8080/",
          "height": 288
        },
        "outputId": "0debe757-2706-465e-fa53-920ab28c8b99"
      },
      "outputs": [
        {
          "output_type": "execute_result",
          "data": {
            "text/plain": [
              "<IPython.core.display.HTML object>"
            ],
            "text/html": [
              "\n",
              "<video width=400 controls>\n",
              "      <source src=\"data:video/mp4;base64,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\" type=\"video/mp4\">\n",
              "</video>\n"
            ]
          },
          "metadata": {},
          "execution_count": 90
        }
      ],
      "source": [
        "#@title Визуализация политики\n",
        "#@markdown Выберите номер эпизода, кратный 100 и меньший или равный 1000, и **запустите эту ячейку**.\n",
        "episode_number = 900 #@param {type:\"number\"}\n",
        "\n",
        "assert (episode_number % 100) == 0, \"Episode number must be a multiple of 100 since we only record every 100th episode.\"\n",
        "assert episode_number < 1001, \"Episode number must be less than or equal to 1000\"\n",
        "\n",
        "\n",
        "eval_episode_number = int(episode_number / 100 * 8)\n",
        "video_path = f\"./video/q_learning/eval/rl-video-episode-{eval_episode_number}.mp4\"\n",
        "\n",
        "mp4 = open(video_path,'rb').read()\n",
        "data_url = \"data:video/mp4;base64,\" + b64encode(mp4).decode()\n",
        "HTML(\"\"\"\n",
        "<video width=400 controls>\n",
        "      <source src=\"%s\" type=\"video/mp4\">\n",
        "</video>\n",
        "\"\"\" % data_url)"
      ]
    },
    {
      "cell_type": "markdown",
      "metadata": {
        "id": "fV3YG7QOZD-B"
      },
      "source": [
        "Кроме того, существует множество алгоритмов RL, которые вносят существенные улучшения в REINFORCE и Deep Q-Learning. См. эти ресурсы:\n",
        "* [REINFORCE с базовым уровнем](https://spinningup.openai.com/en/latest/spinningup/rl_intro3.html#baselines-in-policy-gradients)\n",
        "* [Double Deep Q-Network](https://arxiv.org/pdf/1509.06461.pdf)\n",
        "* [Proximal Policy Optimisation (PPO)](https://arxiv.org/pdf/1707.06347.pdf)\n",
        "\n",
        "Если вы ищете более углубленный онлайн-курс по RL, вы можете ознакомиться с этими курсами:\n",
        "* [Reinforcement Learning Foundations on LinkedIn Learning](https://www.linkedin.com/learning/reinforcement-learning-foundations) (создано одним из наших собственных преподавателей, Хаулатом Абдулхакимом)\n",
        "* [Введение в Reinforcement Learning on FreeCodeCamp](https://www.freecodecamp.org/news/an-introduction-to-reinforcement-learning-4339519de419/)\n",
        "* [Специализация обучения с подкреплением на Coursera](https://www.coursera.org/specializations/reinforcement-learning)\n",
        "\n",
        "Наконец, самый влиятельный учебник по обучению с подкреплением доступен бесплатно онлайн:\n",
        "* [Обучение с подкреплением: введение](http://incompleteideas.net/book/the-book-2nd.html) Ричарда С. Саттона и Эндрю Г. Барто\n",
        "\n",
        "\n",
        "**Ссылки:**\n",
        "\n",
        "* [OpenAI Spinning Up](https://spinningup.openai.com/en/latest/)\n",
        "* [Deep Q-Network]()"
      ]
    }
  ]
}